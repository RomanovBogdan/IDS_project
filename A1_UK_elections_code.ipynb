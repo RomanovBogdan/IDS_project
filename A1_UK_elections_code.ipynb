{
 "cells": [
  {
   "cell_type": "markdown",
   "id": "c585e458",
   "metadata": {},
   "source": [
    "# Code for final project"
   ]
  },
  {
   "cell_type": "markdown",
   "id": "ebc1828f",
   "metadata": {},
   "source": [
    "# Title: \n",
    "## Voting and vola<u>tea</u>lity: Explanation of electoral behavior in British elections 2015, 2017"
   ]
  },
  {
   "cell_type": "markdown",
   "id": "5de2748a",
   "metadata": {},
   "source": [
    "### Project for Introduction to Data Science course\n",
    "### Author: Bogdan Romanov"
   ]
  },
  {
   "cell_type": "markdown",
   "id": "08d8feca",
   "metadata": {},
   "source": [
    "________________________________"
   ]
  },
  {
   "cell_type": "markdown",
   "id": "5c523a27",
   "metadata": {},
   "source": [
    "### 1. Uploading packages and relevant parameters"
   ]
  },
  {
   "cell_type": "code",
   "execution_count": 1,
   "id": "7b9bcec9",
   "metadata": {},
   "outputs": [],
   "source": [
    "from tqdm.notebook import tqdm\n",
    "from IPython.display import display, HTML, Image\n",
    "import pandas as pd\n",
    "import numpy as np\n",
    "import matplotlib.pyplot as plt\n",
    "\n",
    "pd.options.mode.chained_assignment = None \n",
    "pd.set_option('display.max_columns', 50)"
   ]
  },
  {
   "cell_type": "markdown",
   "id": "7666d780",
   "metadata": {},
   "source": [
    "### 2. Reading files manually from the working directory"
   ]
  },
  {
   "cell_type": "code",
   "execution_count": 2,
   "id": "93068d35",
   "metadata": {},
   "outputs": [],
   "source": [
    "dataW04 = pd.read_stata(\"BES2015_W4_v6.0-2.dta\")\n",
    "dataW12 = pd.read_stata(\"BES2015_W12_v3.0-2.dta\")"
   ]
  },
  {
   "cell_type": "markdown",
   "id": "fe3dc376",
   "metadata": {},
   "source": [
    "### 3. Operationalization of dependent and independent variables by reading through the codebook-questionnaire of waves 4 and 12\n",
    "\n",
    "<a href=\"https://www.britishelectionstudy.com/wp-content/uploads/2020/05/Bes_wave19Documentation_V2.pdf\">Questionnaire for wave 4</a>\n",
    "\n",
    "<a href=\"https://www.britishelectionstudy.com/wp-content/uploads/2020/11/Bes_wave20Documentation_V2.pdf\">Questionnaire for wave 12</a>"
   ]
  },
  {
   "cell_type": "markdown",
   "id": "786dbd85",
   "metadata": {},
   "source": [
    "<b><center>Dependent variable — Party affiliation and electoral decision-making</center></b>"
   ]
  },
  {
   "cell_type": "markdown",
   "id": "c81f9599",
   "metadata": {},
   "source": [
    " <ul>\n",
    "  <li>partyId — Generally speaking, do you think of yourself as Labour, Conservative, Liberal Democrat or what?</li>\n",
    "  <li>generalElectionVote — And if there were a UK General Election tomorrow, which party would you vote for?</li>\n",
    "</ul> "
   ]
  },
  {
   "cell_type": "markdown",
   "id": "27ee9999",
   "metadata": {},
   "source": [
    "<b><center>Independent variables — Hypothesis 1 — Party has or does not have chances to win elections</center></b>"
   ]
  },
  {
   "cell_type": "markdown",
   "id": "542b8d79",
   "metadata": {},
   "source": [
    " <ul>\n",
    "  <li>winConstituencyPlacement — How likely is it that each of these parties will win the General Election in your local constituency? (0-Very unlikely to win; 100-Very likely to win)</li>\n",
    "  <li>noChanceCoalition — Which of these parties do you think has no real chanceof being part of the next UK government (either forming a government by itself or as part of a coalition)? Tick all that apply</li>\n",
    "</ul>"
   ]
  },
  {
   "cell_type": "markdown",
   "id": "33bb2baa",
   "metadata": {},
   "source": [
    "<b><center>Independent variables — Hypothesis 2 — Other parties do have better policies implemented</center></b>"
   ]
  },
  {
   "cell_type": "markdown",
   "id": "4c0d47af",
   "metadata": {},
   "source": [
    " <ul>\n",
    "  <li>partyId — Generally speaking, do you think of yourself as Labour, Conservative, Liberal Democrat or what?</li>\n",
    "  <li>generalElectionVote — And if there were a UK General Election tomorrow, which party would you vote for?</li>\n",
    "</ul> "
   ]
  },
  {
   "cell_type": "markdown",
   "id": "b058182d",
   "metadata": {},
   "source": [
    "<b><center>Independent variables — Hypothesis 3 — Economic policies are not effective enough</center></b>"
   ]
  },
  {
   "cell_type": "markdown",
   "id": "aa20aeb0",
   "metadata": {},
   "source": [
    " <ul>\n",
    "  <li>changeEconomy (W12, W04) — Do you think that Economy is getting better, getting worse or staying about the same? </li>\n",
    "  </ul> "
   ]
  },
  {
   "cell_type": "markdown",
   "id": "ef0ef65e",
   "metadata": {},
   "source": [
    "<b><center>Independent variables — Hypothesis 4 — Personal beliefs were affected by the crisis</center></b>"
   ]
  },
  {
   "cell_type": "markdown",
   "id": "b6c1474e",
   "metadata": {},
   "source": [
    " <ul>\n",
    "  <li>mii — As far as you're concerned, what is the SINGLE MOST important issue facing the country at the present time? (open question)</li>\n",
    "  <li>bestOnMII — Which party is best able to handle this issue? (if mii is not None or Don't know)</li>\n",
    "  <li>handleMII — Earlier you said that the single most important issue facing the country was: ... How well do you think that each of the parties is able to handle that issue? (0–Very badly)\n",
    "</li>\n",
    "</ul>"
   ]
  },
  {
   "cell_type": "markdown",
   "id": "e200c436",
   "metadata": {},
   "source": [
    "<b><center>Control variables</center></b>"
   ]
  },
  {
   "cell_type": "markdown",
   "id": "c57719bb",
   "metadata": {},
   "source": [
    " <ul>\n",
    "  <li>country (England, Scotland, Wales)</li>\n",
    "  <li>gender</li>\n",
    "  <li>age</li>\n",
    "</ul>\n",
    "                                                                   \n",
    "                                                                   \n",
    "    \n",
    "    \n",
    "    \n"
   ]
  },
  {
   "cell_type": "markdown",
   "id": "1023e030",
   "metadata": {},
   "source": [
    "### 4. Selection of abovementioned variables from the datasets of waves 4 and 12"
   ]
  },
  {
   "cell_type": "code",
   "execution_count": 3,
   "id": "e1ed6ce6",
   "metadata": {},
   "outputs": [],
   "source": [
    "chosenVar = [\"partyId\", \"generalElectionVote\", #Dependent variable\n",
    "             \n",
    "             #Hypothesis 1, party's success\n",
    "             'winConstituencyCon', 'winConstituencyLab', 'winConstituencyLD', 'winConstituencyUKIP',\n",
    "             'winConstituencyGreen', 'winConstituencySNP', 'winConstituencyPC',\n",
    "             \n",
    "             'noChanceCoalitionLab', 'noChanceCoalitionCon', 'noChanceCoalitionLD','noChanceCoalitionSNP',\n",
    "             'noChanceCoalitionPC', 'noChanceCoalitionGrn', 'noChanceCoalitionUKIP', 'noChanceCoalitionNone',\n",
    "             #-----------------------#\n",
    "             \n",
    "             #Hypothesis3, economic voting\n",
    "             'changeEconomy', 'econPersonalRetro', 'econGenRetro',\n",
    "             #------------------------------------#\n",
    "             \n",
    "             #Hypotheses 2 and 4: signal voting and hierarchy of values\n",
    "             'mii', 'bestOnMII', \n",
    "             'handleMIICon', 'handleMIILab', 'handleMIILD', 'handleMIIUKIP', 'handleMIIGrn',\n",
    "             'mii_cat', 'small_mii_cat',\n",
    "             #--------------------------------------------------------------#\n",
    "             \n",
    "             #Control variables\n",
    "             'country', 'gender']\n",
    "             #---------------------#\n",
    "    \n",
    "chosenVar_W04_only = ['Age']\n",
    "chosenVar_W12_only = ['age']"
   ]
  },
  {
   "cell_type": "code",
   "execution_count": 4,
   "id": "d536d206",
   "metadata": {},
   "outputs": [],
   "source": [
    "dataW04 = dataW04[chosenVar + chosenVar_W04_only]\n",
    "dataW12 = dataW12[chosenVar + chosenVar_W12_only]"
   ]
  },
  {
   "cell_type": "code",
   "execution_count": 5,
   "id": "074f6139",
   "metadata": {},
   "outputs": [],
   "source": [
    "dataW04 = dataW04.dropna(subset=[\"partyId\", \"generalElectionVote\"]).reset_index(drop = True)\n",
    "dataW12 = dataW12.dropna(subset=[\"partyId\", \"generalElectionVote\"]).reset_index(drop = True)"
   ]
  },
  {
   "cell_type": "markdown",
   "id": "908d52dd",
   "metadata": {},
   "source": [
    "### 5. Cleaning and formatting data"
   ]
  },
  {
   "cell_type": "markdown",
   "id": "0adf1566",
   "metadata": {},
   "source": [
    "### 5.1 Recodification of particular variables into binary"
   ]
  },
  {
   "cell_type": "code",
   "execution_count": 6,
   "id": "36b89467",
   "metadata": {},
   "outputs": [],
   "source": [
    "transcodingVariables = {\n",
    "    \"mii\" : {\"Issue stated\": 1, \"Don't know\": 0, 'None': 0},\n",
    "    \n",
    "    \"handleMIICon\": {\"Very badly\": 0, \"Very well\": 10, \"Don't know\": np.nan},\n",
    "    \"handleMIILab\": {\"Very badly\": 0, \"Very well\": 10, \"Don't know\": np.nan},\n",
    "    \"handleMIILD\": {\"Very badly\": 0, \"Very well\": 10, \"Don't know\": np.nan},\n",
    "    \"handleMIIUKIP\": {\"Very badly\": 0, \"Very well\": 10, \"Don't know\": np.nan},\n",
    "    \"handleMIIGrn\": {\"Very badly\": 0, \"Very well\": 10, \"Don't know\": np.nan},\n",
    "    \n",
    "    \"winConstituencyCon\": {\"0 - Very unlikely to win\": 0, \"100 - Very likely to win\": 100, \"Don't know\": np.nan},\n",
    "    \"winConstituencyLab\": {\"0 - Very unlikely to win\": 0, \"100 - Very likely to win\": 100, \"Don't know\": np.nan},\n",
    "    \"winConstituencyLD\": {\"0 - Very unlikely to win\": 0, \"100 - Very likely to win\": 100, \"Don't know\": np.nan},\n",
    "    \"winConstituencyUKIP\": {\"0 - Very unlikely to win\": 0, \"100 - Very likely to win\": 100, \"Don't know\": np.nan},\n",
    "    \"winConstituencyGreen\": {\"0 - Very unlikely to win\": 0, \"100 - Very likely to win\": 100, \"Don't know\": np.nan},\n",
    "    \"winConstituencySNP\": {\"0 - Very unlikely to win\": 0, \"100 - Very likely to win\": 100, \"Don't know\": np.nan},\n",
    "    \"winConstituencyPC\": {\"0 - Very unlikely to win\": 0, \"100 - Very likely to win\": 100, \"Don't know\": np.nan},\n",
    "    \n",
    "    \"noChanceCoalitionLab\": {\"Yes\": 1, \"No\": 0, \"Don't know\": np.nan},\n",
    "    \"noChanceCoalitionCon\": {\"Yes\": 1, \"No\": 0, \"Don't know\": np.nan},\n",
    "    \"noChanceCoalitionLD\": {\"Yes\": 1, \"No\": 0, \"Don't know\": np.nan},\n",
    "    \"noChanceCoalitionSNP\": {\"Yes\": 1, \"No\": 0, \"Don't know\": np.nan},\n",
    "    \"noChanceCoalitionPC\": {\"Yes\": 1, \"No\": 0, \"Don't know\": np.nan},\n",
    "    \"noChanceCoalitionGrn\": {\"Yes\": 1, \"No\": 0, \"Don't know\": np.nan},\n",
    "    \"noChanceCoalitionUKIP\": {\"Yes\": 1, \"No\": 0, \"Don't know\": np.nan},\n",
    "    \"noChanceCoalitionNone\": {\"Yes\": 1, \"No\": 0, \"Don't know\": np.nan},\n",
    "    \n",
    "    \"majorityPartyCon\": {\"Very unlikely\": 0, \"Very likely\": 10, \"Don't know\": np.nan},\n",
    "    \"majorityPartyLab\": {\"Very unlikely\": 0, \"Very likely\": 10, \"Don't know\": np.nan},\n",
    "    \n",
    "    \"changeEconomy\": {\"Getting a lot worse\": -2, \"Getting a little worse\": -1,\n",
    "                      \"Staying about the same\": 0, \"Don't know\": np.nan,\n",
    "                      \"Getting a little better\": 1, \"Getting a lot better\": 2},\n",
    "    \n",
    "    'econPersonalRetro': {\"Got a lot worse\": -2, \"Got a little worse\": -1,\n",
    "                          \"Stayed the same\": 0, \"Don't know\": np.nan,\n",
    "                          \"Got a little better\": 1, \"Got a lot better\": 2},\n",
    "    \n",
    "    'econGenRetro': {\"Got a lot worse\": -2, \"Got a little worse\": -1,\n",
    "                     \"Stayed the same\": 0, \"Don't know\": np.nan,\n",
    "                     \"Got a little better\": 1, \"Got a lot better\": 2},\n",
    "    \n",
    "    \"govtHandleCostLive\": {\"Very badly\": -2, \"Fairly badly\": -1,\n",
    "                           \"Neither well nor badly\": 0, \"Don't know\": np.nan,\n",
    "                           \"Fairly well\": 1, \"Very well\": 2},\n",
    "    \n",
    "    \"govtHandleEcon\": {\"Very badly\": -2, \"Fairly badly\": -1,\n",
    "                       \"Neither well nor badly\": 0, \"Don't know\": np.nan,\n",
    "                       \"Fairly well\": 1, \"Very well\": 2}\n",
    "    \n",
    "    \n",
    "}\n",
    "\n",
    "dataW04.replace(to_replace=transcodingVariables, inplace = True)\n",
    "dataW12.replace(to_replace=transcodingVariables, inplace = True)"
   ]
  },
  {
   "cell_type": "markdown",
   "id": "a623cba5",
   "metadata": {},
   "source": [
    " ### 5.2 Changing some variables' names for the sake of convenience and so they could fit in the regression output"
   ]
  },
  {
   "cell_type": "code",
   "execution_count": 7,
   "id": "1331369e",
   "metadata": {},
   "outputs": [],
   "source": [
    "renameDictionary = {\"generalElectionVote\": \"GEV\",\n",
    "                    \"econPersonalRetro\": \"econPersonal\", \"econGenRetro\" : \"econGen\",\n",
    "                    'Age': 'age',\n",
    "                    #Green Party has different spelling all over the place, unifying those\n",
    "                    \"winConstituencyGreen\": \"winConstituencyGrn\"}\n",
    "dataW12 = dataW12.rename(columns = renameDictionary)\n",
    "dataW04 = dataW04.rename(columns = renameDictionary)"
   ]
  },
  {
   "cell_type": "markdown",
   "id": "3a880414",
   "metadata": {},
   "source": [
    "### 5.3 Even more conversion of variables "
   ]
  },
  {
   "cell_type": "code",
   "execution_count": 8,
   "id": "2f9b91f0",
   "metadata": {},
   "outputs": [],
   "source": [
    "def transform_str2num(data):\n",
    "    varToNum = ['winConstituencyCon', 'winConstituencyLab', 'winConstituencyLD', 'winConstituencyUKIP',\n",
    "                'winConstituencyGrn', 'winConstituencySNP', 'winConstituencyPC', 'age']\n",
    "    for var in varToNum:\n",
    "        data[var] = pd.to_numeric(data[var])\n",
    "    return data\n",
    "\n",
    "dataW04 = transform_str2num(dataW04)\n",
    "dataW12 = transform_str2num(dataW12)"
   ]
  },
  {
   "cell_type": "markdown",
   "id": "d2ae2198",
   "metadata": {},
   "source": [
    "### 6. More preparatory data cleaning "
   ]
  },
  {
   "cell_type": "markdown",
   "id": "50f14eed",
   "metadata": {},
   "source": [
    "### 6.1 Getting more acquainted with the dependent variables for both waves, one at the time"
   ]
  },
  {
   "cell_type": "markdown",
   "id": "2c409411",
   "metadata": {},
   "source": [
    "#### Wave 4"
   ]
  },
  {
   "cell_type": "code",
   "execution_count": 9,
   "id": "aba188da",
   "metadata": {},
   "outputs": [
    {
     "data": {
      "text/html": [
       "<h4>partyId</h4>"
      ],
      "text/plain": [
       "<IPython.core.display.HTML object>"
      ]
     },
     "metadata": {},
     "output_type": "display_data"
    },
    {
     "name": "stdout",
     "output_type": "stream",
     "text": [
      "Labour                                      9185\n",
      "Conservative                                8230\n",
      "No - none                                   5655\n",
      "Liberal Democrat                            2073\n",
      "Scottish National Party (SNP)               1689\n",
      "United Kingdom Independence Party (UKIP)    1611\n",
      "Don't know                                  1480\n",
      "Green Party                                 1018\n",
      "Other                                        302\n",
      "Plaid Cymru                                  206\n",
      "British National Party (BNP)                  97\n",
      "Name: partyId, dtype: int64\n",
      "_________________________________________________\n"
     ]
    },
    {
     "data": {
      "text/html": [
       "<h4>generalElectionVote</h4>"
      ],
      "text/plain": [
       "<IPython.core.display.HTML object>"
      ]
     },
     "metadata": {},
     "output_type": "display_data"
    },
    {
     "name": "stdout",
     "output_type": "stream",
     "text": [
      "Labour                                      8779\n",
      "Conservative                                8242\n",
      "United Kingdom Independence Party (UKIP)    3932\n",
      "Don't know                                  2938\n",
      "Scottish National Party (SNP)               2316\n",
      "Liberal Democrat                            1681\n",
      "Green Party                                 1674\n",
      "I would/did not vote                        1373\n",
      "Plaid Cymru                                  300\n",
      "Other                                        233\n",
      "British National Party (BNP)                  78\n",
      "Name: GEV, dtype: int64\n"
     ]
    }
   ],
   "source": [
    "display(HTML(\"<h4>partyId</h4>\")) \n",
    "print(dataW04['partyId'].value_counts())\n",
    "print(\"_________________________________________________\")\n",
    "display(HTML(\"<h4>generalElectionVote</h4>\"))\n",
    "print(dataW04['GEV'].value_counts())"
   ]
  },
  {
   "cell_type": "markdown",
   "id": "70fa8e38",
   "metadata": {},
   "source": [
    "### 6.2 Removing irrelevant levels, such as \"Other\", \"No - None\""
   ]
  },
  {
   "cell_type": "code",
   "execution_count": 10,
   "id": "a106e0c7",
   "metadata": {},
   "outputs": [],
   "source": [
    "filterWords = [\"No - none\", \"Don't know\", \"I would not vote\"]\n",
    "dataW04 = dataW04[~dataW04['partyId'].isin(filterWords)]\n",
    "dataW04 = dataW04[~dataW04['GEV'].isin(filterWords)].reset_index(drop = True)"
   ]
  },
  {
   "cell_type": "code",
   "execution_count": 11,
   "id": "623c1208",
   "metadata": {},
   "outputs": [
    {
     "data": {
      "text/html": [
       "<h4>partyId</h4>"
      ],
      "text/plain": [
       "<IPython.core.display.HTML object>"
      ]
     },
     "metadata": {},
     "output_type": "display_data"
    },
    {
     "name": "stdout",
     "output_type": "stream",
     "text": [
      "Labour                                      8734\n",
      "Conservative                                7896\n",
      "Liberal Democrat                            1883\n",
      "Scottish National Party (SNP)               1670\n",
      "United Kingdom Independence Party (UKIP)    1571\n",
      "Green Party                                  982\n",
      "Other                                        279\n",
      "Plaid Cymru                                  197\n",
      "British National Party (BNP)                  91\n",
      "No - none                                      0\n",
      "Don't know                                     0\n",
      "Name: partyId, dtype: int64\n",
      "_________________________________________________\n"
     ]
    },
    {
     "data": {
      "text/html": [
       "<h4>generalElectionVote</h4>"
      ],
      "text/plain": [
       "<IPython.core.display.HTML object>"
      ]
     },
     "metadata": {},
     "output_type": "display_data"
    },
    {
     "name": "stdout",
     "output_type": "stream",
     "text": [
      "Labour                                      7720\n",
      "Conservative                                7070\n",
      "United Kingdom Independence Party (UKIP)    3107\n",
      "Scottish National Party (SNP)               2028\n",
      "Liberal Democrat                            1363\n",
      "Green Party                                 1162\n",
      "I would/did not vote                         396\n",
      "Plaid Cymru                                  248\n",
      "Other                                        146\n",
      "British National Party (BNP)                  63\n",
      "Don't know                                     0\n",
      "Name: GEV, dtype: int64\n"
     ]
    }
   ],
   "source": [
    "display(HTML(\"<h4>partyId</h4>\"))\n",
    "print(dataW04['partyId'].value_counts())\n",
    "print(\"_________________________________________________\")\n",
    "display(HTML(\"<h4>generalElectionVote</h4>\"))\n",
    "print(dataW04['GEV'].value_counts())"
   ]
  },
  {
   "cell_type": "markdown",
   "id": "1a875ca1",
   "metadata": {},
   "source": [
    "#### Wave 12"
   ]
  },
  {
   "cell_type": "code",
   "execution_count": 12,
   "id": "e260a16b",
   "metadata": {},
   "outputs": [],
   "source": [
    "dataW12 = dataW12[~dataW12['partyId'].isin(filterWords)]\n",
    "dataW12 = dataW12[~dataW12['GEV'].isin(filterWords)].reset_index(drop = True)"
   ]
  },
  {
   "cell_type": "code",
   "execution_count": 13,
   "id": "80c1cd73",
   "metadata": {},
   "outputs": [
    {
     "data": {
      "text/html": [
       "<h4>partyId</h4>"
      ],
      "text/plain": [
       "<IPython.core.display.HTML object>"
      ]
     },
     "metadata": {},
     "output_type": "display_data"
    },
    {
     "name": "stdout",
     "output_type": "stream",
     "text": [
      "Conservative                                9320\n",
      "Labour                                      9113\n",
      "Liberal Democrat                            2361\n",
      "United Kingdom Independence Party (UKIP)    1495\n",
      "Scottish National Party (SNP)               1141\n",
      "Green Party                                  944\n",
      "Other                                        298\n",
      "Plaid Cymru                                  156\n",
      "No - none                                      0\n",
      "Don't know                                     0\n",
      "Name: partyId, dtype: int64\n",
      "_________________________________________________\n"
     ]
    },
    {
     "data": {
      "text/html": [
       "<h4>generalElectionVote</h4>"
      ],
      "text/plain": [
       "<IPython.core.display.HTML object>"
      ]
     },
     "metadata": {},
     "output_type": "display_data"
    },
    {
     "name": "stdout",
     "output_type": "stream",
     "text": [
      "Conservative                                10445\n",
      "Labour                                       8423\n",
      "Liberal Democrat                             2359\n",
      "Scottish National Party (SNP)                1329\n",
      "United Kingdom Independence Party (UKIP)      934\n",
      "Green Party                                   514\n",
      "I would/did not vote                          460\n",
      "Other                                         192\n",
      "Plaid Cymru                                   172\n",
      "Don't know                                      0\n",
      "Name: GEV, dtype: int64\n"
     ]
    }
   ],
   "source": [
    "display(HTML(\"<h4>partyId</h4>\"))\n",
    "print(dataW12['partyId'].value_counts())\n",
    "print(\"_________________________________________________\")\n",
    "display(HTML(\"<h4>generalElectionVote</h4>\"))\n",
    "print(dataW12['GEV'].value_counts())"
   ]
  },
  {
   "cell_type": "markdown",
   "id": "bb309039",
   "metadata": {},
   "source": [
    "### 6.3 Now we have to calculate the dependent variable itself, it should be values, which do not match between \"partyId\" and \"generalElectionVote\"\n",
    "\n",
    "\n",
    "\n",
    "<b><center>DV = (partyId != generalElectionVote)</center></b>"
   ]
  },
  {
   "cell_type": "code",
   "execution_count": 14,
   "id": "31457a70",
   "metadata": {},
   "outputs": [],
   "source": [
    "def make_DV_var(data, label = \"\"):\n",
    "    for row in tqdm(range(len(data)), desc = label):\n",
    "        if data.loc[row, 'partyId'] == data.loc[row, 'GEV']:\n",
    "            data.loc[row, 'DV_hasContradictions'] = False\n",
    "        else:\n",
    "            data.loc[row, 'DV_hasContradictions'] = True"
   ]
  },
  {
   "cell_type": "code",
   "execution_count": 15,
   "id": "12474dda",
   "metadata": {},
   "outputs": [
    {
     "data": {
      "application/vnd.jupyter.widget-view+json": {
       "model_id": "8d89f206990f44aa985f0be0744b79cf",
       "version_major": 2,
       "version_minor": 0
      },
      "text/plain": [
       "2015 Elections:   0%|          | 0/23303 [00:00<?, ?it/s]"
      ]
     },
     "metadata": {},
     "output_type": "display_data"
    },
    {
     "data": {
      "application/vnd.jupyter.widget-view+json": {
       "model_id": "eddb8ff1d9044deb96e78952f170b574",
       "version_major": 2,
       "version_minor": 0
      },
      "text/plain": [
       "2017 Elections:   0%|          | 0/24828 [00:00<?, ?it/s]"
      ]
     },
     "metadata": {},
     "output_type": "display_data"
    }
   ],
   "source": [
    "make_DV_var(dataW04, label=\"2015 Elections\")\n",
    "make_DV_var(dataW12, label=\"2017 Elections\")"
   ]
  },
  {
   "cell_type": "code",
   "execution_count": 16,
   "id": "7e8e858d",
   "metadata": {},
   "outputs": [
    {
     "data": {
      "text/html": [
       "<h4>2015 Elections</h4>"
      ],
      "text/plain": [
       "<IPython.core.display.HTML object>"
      ]
     },
     "metadata": {},
     "output_type": "display_data"
    },
    {
     "name": "stdout",
     "output_type": "stream",
     "text": [
      "False    18313\n",
      "True      4990\n",
      "Name: DV_hasContradictions, dtype: int64\n"
     ]
    },
    {
     "data": {
      "text/html": [
       "<h4>2017 Elections</h4>"
      ],
      "text/plain": [
       "<IPython.core.display.HTML object>"
      ]
     },
     "metadata": {},
     "output_type": "display_data"
    },
    {
     "name": "stdout",
     "output_type": "stream",
     "text": [
      "False    19063\n",
      "True      5765\n",
      "Name: DV_hasContradictions, dtype: int64\n"
     ]
    }
   ],
   "source": [
    "display(HTML(\"<h4>2015 Elections</h4>\"))\n",
    "print(dataW04['DV_hasContradictions'].value_counts())\n",
    "display(HTML(\"<h4>2017 Elections</h4>\"))\n",
    "print(dataW12['DV_hasContradictions'].value_counts())"
   ]
  },
  {
   "cell_type": "markdown",
   "id": "154eb5af",
   "metadata": {},
   "source": [
    "### 6.4 Changing True and False into 1 and 0 respectively as a prerequisite of the logistic model"
   ]
  },
  {
   "cell_type": "code",
   "execution_count": 17,
   "id": "d96132c4",
   "metadata": {},
   "outputs": [],
   "source": [
    "dataW04['DV_hasContradictions'] = dataW04['DV_hasContradictions']*1\n",
    "dataW12['DV_hasContradictions'] = dataW12['DV_hasContradictions']*1\n",
    "\n",
    "dataW04['DV_hasContradictions'] = dataW04['DV_hasContradictions'].astype(int)\n",
    "dataW12['DV_hasContradictions'] = dataW12['DV_hasContradictions'].astype(int)"
   ]
  },
  {
   "cell_type": "markdown",
   "id": "772273b3",
   "metadata": {},
   "source": [
    "### 7. Statistical hypotheses testing "
   ]
  },
  {
   "cell_type": "markdown",
   "id": "95bb4f90",
   "metadata": {},
   "source": [
    "### 7.1 Hypothesis 1, voting for parties with low winning chances"
   ]
  },
  {
   "cell_type": "markdown",
   "id": "44748949",
   "metadata": {},
   "source": [
    "Here we test the first assumption that respondents vote against their preferences because their genuine preferences are parties with small chances of winning. The statement is based on two premises: either the voters cast a vote for big party or they assess party's chances"
   ]
  },
  {
   "cell_type": "markdown",
   "id": "374d1abf",
   "metadata": {},
   "source": [
    "### 7.1.1 Voting for big parties"
   ]
  },
  {
   "cell_type": "markdown",
   "id": "c8d65dfc",
   "metadata": {},
   "source": [
    "#### Categorizing parties according to their size"
   ]
  },
  {
   "cell_type": "code",
   "execution_count": 18,
   "id": "3908c0f4",
   "metadata": {},
   "outputs": [],
   "source": [
    "largeParties = ['Conservative', 'Labour', 'Liberal Democrat']\n",
    "smallParties = ['United Kingdom Independence Party (UKIP)', 'Scottish National Party (SNP)',\n",
    "                'Green Party', 'Plaid Cymru']\n",
    "ultraSmall = ['British National Party (BNP)', 'Other']"
   ]
  },
  {
   "cell_type": "markdown",
   "id": "5e056029",
   "metadata": {},
   "source": [
    "#### Since we are working with against preference voting, I need to consider the change of party preferences in the analysis\n",
    " \n",
    " <ul>\n",
    "  <li>mii — larger (1) - small party, but voter gives the ballot to large party</li>\n",
    "  <li>smaller (-1) - belonging to large party, but voting for smaller one </li>\n",
    "  <li>no difference (0) - same sizes of parties, yet still, parties are different</li>\n",
    "  <li>the same - party is the same and voted did not change the preferences</li>\n",
    "</ul>"
   ]
  },
  {
   "cell_type": "code",
   "execution_count": 19,
   "id": "d8ad60c9",
   "metadata": {},
   "outputs": [],
   "source": [
    "def make_sizeComparison(data, labelBar = ''):\n",
    "    for row in tqdm(range(len(data)), desc=labelBar):\n",
    "        \n",
    "        #the same\n",
    "        if (data.loc[row, 'DV_hasContradictions'] == False):\n",
    "            data.loc[row, 'sizeComparison'] = 'the same'\n",
    "            data.loc[row, 'sizeComparisonD'] = 0\n",
    "        \n",
    "        #no difference    \n",
    "        elif (data.loc[row, 'GEV'] in largeParties) and (data.loc[row, 'partyId'] in largeParties):\n",
    "            data.loc[row, 'sizeComparison'] = 'no difference'\n",
    "            data.loc[row, 'sizeComparisonD'] = 0\n",
    "        elif (data.loc[row, 'GEV'] in smallParties) and (data.loc[row, 'partyId'] in smallParties):\n",
    "            data.loc[row, 'sizeComparison'] = 'no difference'\n",
    "            data.loc[row, 'sizeComparisonD'] = 0\n",
    "        elif (data.loc[row, 'GEV'] in ultraSmall) and (data.loc[row, 'partyId'] in ultraSmall):\n",
    "            data.loc[row, 'sizeComparison'] = 'no difference'\n",
    "            data.loc[row, 'sizeComparisonD'] = 0\n",
    "        \n",
    "        #larger\n",
    "        elif (data.loc[row, 'GEV'] in largeParties) and (data.loc[row, 'partyId'] not in largeParties):\n",
    "            data.loc[row, 'sizeComparison'] = 'larger'\n",
    "            data.loc[row, 'sizeComparisonD'] = 1\n",
    "        elif (data.loc[row, 'GEV'] in smallParties) and (data.loc[row, 'partyId'] in ultraSmall):\n",
    "            data.loc[row, 'sizeComparison'] = 'larger'\n",
    "            data.loc[row, 'sizeComparisonD'] = 1\n",
    "        \n",
    "        #smaller\n",
    "        else:\n",
    "            data.loc[row, 'sizeComparison'] = 'smaller'\n",
    "            data.loc[row, 'sizeComparisonD'] = -1"
   ]
  },
  {
   "cell_type": "code",
   "execution_count": 20,
   "id": "5578f904",
   "metadata": {},
   "outputs": [
    {
     "data": {
      "application/vnd.jupyter.widget-view+json": {
       "model_id": "eeb7caf16c134debaf0af2f007b7a293",
       "version_major": 2,
       "version_minor": 0
      },
      "text/plain": [
       "2015:   0%|          | 0/23303 [00:00<?, ?it/s]"
      ]
     },
     "metadata": {},
     "output_type": "display_data"
    },
    {
     "data": {
      "application/vnd.jupyter.widget-view+json": {
       "model_id": "372a3c45e02f4850ad916b05842296b8",
       "version_major": 2,
       "version_minor": 0
      },
      "text/plain": [
       "2017:   0%|          | 0/24828 [00:00<?, ?it/s]"
      ]
     },
     "metadata": {},
     "output_type": "display_data"
    }
   ],
   "source": [
    "make_sizeComparison(dataW04, labelBar = '2015')\n",
    "make_sizeComparison(dataW12, labelBar = '2017')"
   ]
  },
  {
   "cell_type": "code",
   "execution_count": 21,
   "id": "eabc0252",
   "metadata": {},
   "outputs": [
    {
     "data": {
      "text/html": [
       "<h4>2015 Elections</h4>"
      ],
      "text/plain": [
       "<IPython.core.display.HTML object>"
      ]
     },
     "metadata": {},
     "output_type": "display_data"
    },
    {
     "name": "stdout",
     "output_type": "stream",
     "text": [
      "the same         18313\n",
      "smaller           2952\n",
      "no difference     1414\n",
      "larger             624\n",
      "Name: sizeComparison, dtype: int64\n"
     ]
    },
    {
     "data": {
      "text/html": [
       "<h4>2017 Elections</h4>"
      ],
      "text/plain": [
       "<IPython.core.display.HTML object>"
      ]
     },
     "metadata": {},
     "output_type": "display_data"
    },
    {
     "name": "stdout",
     "output_type": "stream",
     "text": [
      "the same         19063\n",
      "no difference     2933\n",
      "larger            1589\n",
      "smaller           1243\n",
      "Name: sizeComparison, dtype: int64\n"
     ]
    }
   ],
   "source": [
    "display(HTML(\"<h4>2015 Elections</h4>\"))\n",
    "print(dataW04['sizeComparison'].value_counts())\n",
    "display(HTML(\"<h4>2017 Elections</h4>\"))\n",
    "print(dataW12['sizeComparison'].value_counts())"
   ]
  },
  {
   "cell_type": "markdown",
   "id": "2ca17c4b",
   "metadata": {},
   "source": [
    "#### Even here we see that majority of voters did not change their preferences, yet this is well-expected and taken for granted — that is why 'the same' is the dominant category. In 2015 it can be observed that voters, if changed preferences, they were not doing it because of bigger party size. However, in 2017 around 6 000 voters opt out for bigger parties. "
   ]
  },
  {
   "cell_type": "markdown",
   "id": "8149d9be",
   "metadata": {},
   "source": [
    "### 7.1.2 Evaluation of winning chances"
   ]
  },
  {
   "cell_type": "markdown",
   "id": "5337522e",
   "metadata": {},
   "source": [
    "In order to calculate this association we need two particular variables:\n",
    "\n",
    " <ul>\n",
    "  <li>winConstituencyPlacement - How likely is it that each of these parties will win the General Election in your local constituency? (0 - Very unlikely to win; 100 - Very likely to win)</li>\n",
    "  <li>noChanceCoalition — Which of these parties do you think has no real chance of being part of the next UK government (either forming a government by itself or as part of a coalition)? Tick all that apply </li>\n",
    "</ul>\n",
    "    \n",
    "From that we create two sub-variables partyIdSuccess and generalElectionVoteSuccess. Within the variables, the respondent express the belief that the party, to which person belongs, have chances to win or not. The variable ranges from 0 to 100\n",
    "\n",
    "Same manipulations we do for variables partyIdFailure and generalElectionVoteFailure — here respondents measure the chances of the party to lose. This is binary variable.\n",
    "\n",
    "These calculations will be used in following empirical tests! "
   ]
  },
  {
   "cell_type": "code",
   "execution_count": 22,
   "id": "ac71d00e",
   "metadata": {},
   "outputs": [],
   "source": [
    "party_abbr = {\"Conservative\" : \"Con\", \"Labour\": \"Lab\", \"Liberal Democrat\": \"LD\",\n",
    "                          \"Green Party\": \"Grn\", \"United Kingdom Independence Party (UKIP)\": \"UKIP\",\n",
    "                          \"Scottish National Party (SNP)\": \"SNP\", \"Plaid Cymru\": \"PC\"}\n",
    "\n",
    "def makeFailureSuccessVars(data, labelBar=''):\n",
    "    for row in tqdm(range(len(data)), desc = labelBar):\n",
    "        try:\n",
    "            if data.loc[row, \"partyId\"] in party_abbr:\n",
    "                data.loc[row, \"PIdSuccess\"] = data.loc[row,\"winConstituency\" + party_abbr[data.loc[row, \"partyId\"]]]\n",
    "                data.loc[row, \"PIdFailure\"] = data.loc[row,\"noChanceCoalition\" + party_abbr[data.loc[row, \"partyId\"]]]\n",
    "\n",
    "            if data.loc[row, \"GEV\"] in party_abbr:\n",
    "                data.loc[row, \"GEVSuccess\"] = data.loc[row,\"winConstituency\" + party_abbr[data.loc[row, \"GEV\"]]]\n",
    "                data.loc[row, \"GEVFailure\"] = data.loc[row,\"noChanceCoalition\" + party_abbr[data.loc[row, \"GEV\"]]]\n",
    "        except:\n",
    "            print(\"There is an issue with row # \", row)"
   ]
  },
  {
   "cell_type": "code",
   "execution_count": 23,
   "id": "b43f4cb2",
   "metadata": {},
   "outputs": [
    {
     "data": {
      "application/vnd.jupyter.widget-view+json": {
       "model_id": "0ded649d0dbe4458a36edd0846518e6e",
       "version_major": 2,
       "version_minor": 0
      },
      "text/plain": [
       "2015 Elections:   0%|          | 0/23303 [00:00<?, ?it/s]"
      ]
     },
     "metadata": {},
     "output_type": "display_data"
    },
    {
     "data": {
      "application/vnd.jupyter.widget-view+json": {
       "model_id": "cc4c2db9f1034483ac308f398d62408e",
       "version_major": 2,
       "version_minor": 0
      },
      "text/plain": [
       "2017 Elections:   0%|          | 0/24828 [00:00<?, ?it/s]"
      ]
     },
     "metadata": {},
     "output_type": "display_data"
    }
   ],
   "source": [
    "makeFailureSuccessVars(dataW04, labelBar=\"2015 Elections\")\n",
    "makeFailureSuccessVars(dataW12, labelBar=\"2017 Elections\")"
   ]
  },
  {
   "cell_type": "markdown",
   "id": "b9b5e0ab",
   "metadata": {},
   "source": [
    "### 7.1.3 Logistic regression for Hypothesis 1"
   ]
  },
  {
   "cell_type": "code",
   "execution_count": 24,
   "id": "293a7b4e",
   "metadata": {},
   "outputs": [],
   "source": [
    "import statsmodels.api as sm\n",
    "import statsmodels.formula.api as smf"
   ]
  },
  {
   "cell_type": "markdown",
   "id": "56a2ef32",
   "metadata": {},
   "source": [
    "Dependent variable: DV_hasContradictions — does person vote against the preferences? (0 - no, 1 - yes)\n",
    "\n",
    "Independent variable:\n",
    "<ul>\n",
    "  <li>partyIdSuccess — evaluation of party's success chances, to which person attribute himself or herself (0 - lowest chances,100 - highest chances)</li>\n",
    "  <li>generalElectionVoteSuccess — evaluation of party's success chances, for which one cast a vote (0 - lowest chances,100 - highest chances)</li>\n",
    "</ul>\n",
    "\n",
    "<ul>\n",
    "  <li>partyIdFailure — does a party, to which person attribute himself or herself, have chances of winning elections and becoming a part of parliament composition (0 - no, 1 - yes)</li>\n",
    "  <li>generalElectionVoteFailure — does a party, for which one cast a vote, have chances of winning elections and becoming a part of parliament composition (0 - no, 1 - yes)</li>\n",
    "</ul>"
   ]
  },
  {
   "cell_type": "markdown",
   "id": "b01c162e",
   "metadata": {},
   "source": [
    "#### 2017 without interactions"
   ]
  },
  {
   "cell_type": "code",
   "execution_count": 25,
   "id": "16c53530",
   "metadata": {},
   "outputs": [
    {
     "name": "stdout",
     "output_type": "stream",
     "text": [
      "Optimization terminated successfully.\n",
      "         Current function value: 0.397737\n",
      "         Iterations 6\n",
      "                           Results: Logit\n",
      "=====================================================================\n",
      "Model:              Logit                Pseudo R-squared: 0.222     \n",
      "Dependent Variable: DV_hasContradictions AIC:              17765.7801\n",
      "Date:               2021-12-07 19:55     BIC:              17805.8465\n",
      "No. Observations:   22321                Log-Likelihood:   -8877.9   \n",
      "Df Model:           4                    LL-Null:          -11410.   \n",
      "Df Residuals:       22316                LLR p-value:      0.0000    \n",
      "Converged:          1.0000               Scale:            1.0000    \n",
      "No. Iterations:     6.0000                                           \n",
      "-----------------------------------------------------------------------\n",
      "              Coef.    Std.Err.      z       P>|z|     [0.025    0.975]\n",
      "-----------------------------------------------------------------------\n",
      "Intercept    -0.7558     0.0455   -16.6167   0.0000   -0.8449   -0.6666\n",
      "PIdSuccess   -0.0437     0.0010   -45.9648   0.0000   -0.0456   -0.0419\n",
      "GEVSuccess    0.0250     0.0010    25.3738   0.0000    0.0231    0.0269\n",
      "PIdFailure    1.4142     0.0703    20.1075   0.0000    1.2763    1.5520\n",
      "GEVFailure   -0.7756     0.0781    -9.9260   0.0000   -0.9287   -0.6224\n",
      "=====================================================================\n",
      "\n"
     ]
    }
   ],
   "source": [
    "formulaH1_NoInter = \"DV_hasContradictions ~ PIdSuccess + GEVSuccess + PIdFailure + GEVFailure\"\n",
    "logit2017H1_NoInter = smf.logit(formula=formulaH1_NoInter, data = dataW12).fit()\n",
    "print(logit2017H1_NoInter.summary2())"
   ]
  },
  {
   "cell_type": "markdown",
   "id": "c04aac31",
   "metadata": {},
   "source": [
    "#### I would like to comment only this logistic regression output for the illustrative purposes. Here, all four variables are statistically significant. Let me speculate in the role of PIdSuccess and PIdFailure variables: former has negative association with the voting against preferences, thus, higher voter's trust in the affiliated party means lesser chances to vote against preferences; and another case for latter variable — higher perception of affiliated party's failure increase the chances of voting against the party preferences.     \n",
    "\n",
    "#### GEVSuccess and GEVFailure are about the parties, to which voter gave a vote: positive connection between GEVSuccess and dependent variable indicate the presence of strategic voting — person does not want to waste the vote thus he or she turn away from their affiliated party and give a vote to another party with higher winning chances. Similar logic is applicable to GEVFailure — lesser chances of getting into the cabinet reduce the chances of getting votes.\n",
    "\n",
    "#### Finally, the model has quite low pseudo R-squared, only 22% of cases are explained by the model."
   ]
  },
  {
   "cell_type": "markdown",
   "id": "436d43a5",
   "metadata": {},
   "source": [
    "#### 2017 with interactions"
   ]
  },
  {
   "cell_type": "code",
   "execution_count": 26,
   "id": "f0158dcd",
   "metadata": {},
   "outputs": [
    {
     "name": "stdout",
     "output_type": "stream",
     "text": [
      "Optimization terminated successfully.\n",
      "         Current function value: 0.300780\n",
      "         Iterations 8\n",
      "                            Results: Logit\n",
      "======================================================================\n",
      "Model:               Logit                Pseudo R-squared: 0.412     \n",
      "Dependent Variable:  DV_hasContradictions AIC:              13439.3995\n",
      "Date:                2021-12-07 19:55     BIC:              13487.4792\n",
      "No. Observations:    22321                Log-Likelihood:   -6713.7   \n",
      "Df Model:            5                    LL-Null:          -11410.   \n",
      "Df Residuals:        22315                LLR p-value:      0.0000    \n",
      "Converged:           1.0000               Scale:            1.0000    \n",
      "No. Iterations:      8.0000                                           \n",
      "----------------------------------------------------------------------\n",
      "                       Coef.  Std.Err.    z     P>|z|   [0.025  0.975]\n",
      "----------------------------------------------------------------------\n",
      "Intercept             -4.0505   0.0981 -41.2804 0.0000 -4.2428 -3.8581\n",
      "PIdSuccess             0.0593   0.0020  29.5389 0.0000  0.0554  0.0632\n",
      "GEVSuccess             0.0955   0.0021  45.1566 0.0000  0.0914  0.0997\n",
      "PIdSuccess:GEVSuccess -0.0018   0.0000 -50.5261 0.0000 -0.0019 -0.0017\n",
      "PIdFailure             1.5099   0.0784  19.2581 0.0000  1.3562  1.6635\n",
      "GEVFailure            -0.4933   0.0838  -5.8847 0.0000 -0.6576 -0.3290\n",
      "======================================================================\n",
      "\n"
     ]
    }
   ],
   "source": [
    "formulaH1_Inter = \"DV_hasContradictions ~ PIdSuccess * GEVSuccess + PIdFailure + GEVFailure\"\n",
    "logit2017H1_Inter = smf.logit(formula=formulaH1_Inter, data = dataW12).fit()\n",
    "print(logit2017H1_Inter.summary2())"
   ]
  },
  {
   "cell_type": "markdown",
   "id": "ac022420",
   "metadata": {},
   "source": [
    "#### In order to interpret the significant interaction and the components of it, we need logit marginal effects and further calculations"
   ]
  },
  {
   "cell_type": "code",
   "execution_count": 27,
   "id": "38e41d85",
   "metadata": {},
   "outputs": [
    {
     "name": "stdout",
     "output_type": "stream",
     "text": [
      "         Logit Marginal Effects        \n",
      "=======================================\n",
      "Dep. Variable:     DV_hasContradictions\n",
      "Method:                            dydx\n",
      "At:                             overall\n",
      "=========================================================================================\n",
      "                           dy/dx    std err          z      P>|z|      [0.025      0.975]\n",
      "-----------------------------------------------------------------------------------------\n",
      "PIdSuccess                0.0056      0.000     31.410      0.000       0.005       0.006\n",
      "GEVSuccess                0.0089      0.000     54.448      0.000       0.009       0.009\n",
      "PIdSuccess:GEVSuccess    -0.0002   2.71e-06    -62.775      0.000      -0.000      -0.000\n",
      "PIdFailure                0.1414      0.007     20.022      0.000       0.128       0.155\n",
      "GEVFailure               -0.0462      0.008     -5.902      0.000      -0.062      -0.031\n",
      "=========================================================================================\n"
     ]
    }
   ],
   "source": [
    "#logit marginal effects\n",
    "LME2017H1 = logit2017H1_Inter.get_margeff()\n",
    "print(LME2017H1.summary())"
   ]
  },
  {
   "cell_type": "markdown",
   "id": "09723ed4",
   "metadata": {},
   "source": [
    "#### Here I calculate on how many units, in average, changes the affiliated party's chances if we increase the indepedent variable by one unit \n",
    "\n",
    "partyIdSuccess = β1 + β3 * generalElectionVoteSuccess\n",
    "\n",
    "partyIdSuccess = 0.0056 + (-0.0002) * generalElectionVoteSuccess\n",
    "\n",
    "0 = 0.0056 + (-0.0002) * generalElectionVoteSuccess\n",
    "\n",
    "generalElectionVoteSuccess = 0.0055505220186383510/00017029773201904033\n",
    "\n",
    "generalElectionVoteSuccess ≈ 33 "
   ]
  },
  {
   "cell_type": "code",
   "execution_count": 28,
   "id": "302544ac",
   "metadata": {},
   "outputs": [
    {
     "data": {
      "text/plain": [
       "32.59304720521911"
      ]
     },
     "execution_count": 28,
     "metadata": {},
     "output_type": "execute_result"
    }
   ],
   "source": [
    "- LME2017H1.margeff[0]/LME2017H1.margeff[2]"
   ]
  },
  {
   "cell_type": "markdown",
   "id": "3ab6f09c",
   "metadata": {},
   "source": [
    "#### What it all means: \n",
    "\n",
    "If generalElectionVoteSuccess = 32.6 => increase of partyIdSuccess does not change the chances;\n",
    "\n",
    "If generalElectionVoteSuccess < 32.6 => increase of partyIdSuccess increase the probability;\n",
    "\n",
    "If generalElectionVoteSuccess > 32.6 => increase of partyIdSuccess decrease the probability"
   ]
  },
  {
   "cell_type": "markdown",
   "id": "59c73a4a",
   "metadata": {},
   "source": [
    "_____________________________________________"
   ]
  },
  {
   "cell_type": "markdown",
   "id": "dbd01573",
   "metadata": {},
   "source": [
    "#### 2015 without interactions"
   ]
  },
  {
   "cell_type": "code",
   "execution_count": 29,
   "id": "2e1a07f6",
   "metadata": {},
   "outputs": [
    {
     "name": "stdout",
     "output_type": "stream",
     "text": [
      "Optimization terminated successfully.\n",
      "         Current function value: 0.458589\n",
      "         Iterations 6\n",
      "                            Results: Logit\n",
      "======================================================================\n",
      "Model:              Logit                Pseudo R-squared: 0.054      \n",
      "Dependent Variable: DV_hasContradictions AIC:              19331.2722 \n",
      "Date:               2021-12-07 19:55     BIC:              19371.0493 \n",
      "No. Observations:   21066                Log-Likelihood:   -9660.6    \n",
      "Df Model:           4                    LL-Null:          -10209.    \n",
      "Df Residuals:       21061                LLR p-value:      6.0495e-236\n",
      "Converged:          1.0000               Scale:            1.0000     \n",
      "No. Iterations:     6.0000                                            \n",
      "------------------------------------------------------------------------\n",
      "               Coef.    Std.Err.      z       P>|z|     [0.025    0.975]\n",
      "------------------------------------------------------------------------\n",
      "Intercept     -0.6638     0.0393   -16.8838   0.0000   -0.7408   -0.5867\n",
      "PIdSuccess    -0.0235     0.0010   -24.3126   0.0000   -0.0254   -0.0216\n",
      "GEVSuccess     0.0076     0.0010     7.6254   0.0000    0.0057    0.0096\n",
      "PIdFailure    -0.4915     0.1013    -4.8498   0.0000   -0.6901   -0.2929\n",
      "GEVFailure     1.0350     0.0967    10.6985   0.0000    0.8454    1.2246\n",
      "======================================================================\n",
      "\n"
     ]
    }
   ],
   "source": [
    "logit2015H1_NoInter = smf.logit(formula=formulaH1_NoInter, data = dataW04).fit()\n",
    "print(logit2015H1_NoInter.summary2())"
   ]
  },
  {
   "cell_type": "markdown",
   "id": "7808b14f",
   "metadata": {},
   "source": [
    "#### 2015 with interactions"
   ]
  },
  {
   "cell_type": "code",
   "execution_count": 30,
   "id": "833bbdd5",
   "metadata": {},
   "outputs": [
    {
     "name": "stdout",
     "output_type": "stream",
     "text": [
      "Optimization terminated successfully.\n",
      "         Current function value: 0.366673\n",
      "         Iterations 7\n",
      "                            Results: Logit\n",
      "======================================================================\n",
      "Model:               Logit                Pseudo R-squared: 0.243     \n",
      "Dependent Variable:  DV_hasContradictions AIC:              15460.6803\n",
      "Date:                2021-12-07 19:55     BIC:              15508.4128\n",
      "No. Observations:    21066                Log-Likelihood:   -7724.3   \n",
      "Df Model:            5                    LL-Null:          -10209.   \n",
      "Df Residuals:        21060                LLR p-value:      0.0000    \n",
      "Converged:           1.0000               Scale:            1.0000    \n",
      "No. Iterations:      7.0000                                           \n",
      "----------------------------------------------------------------------\n",
      "                       Coef.  Std.Err.    z     P>|z|   [0.025  0.975]\n",
      "----------------------------------------------------------------------\n",
      "Intercept             -3.6600   0.0907 -40.3460 0.0000 -3.8378 -3.4822\n",
      "PIdSuccess             0.0634   0.0020  31.6480 0.0000  0.0595  0.0673\n",
      "GEVSuccess             0.0770   0.0020  38.8557 0.0000  0.0731  0.0809\n",
      "PIdSuccess:GEVSuccess -0.0016   0.0000 -47.3950 0.0000 -0.0017 -0.0016\n",
      "PIdFailure            -0.4141   0.1072  -3.8628 0.0001 -0.6242 -0.2040\n",
      "GEVFailure             1.0491   0.1037  10.1172 0.0000  0.8459  1.2524\n",
      "======================================================================\n",
      "\n"
     ]
    }
   ],
   "source": [
    "logit2015H1_Inter = smf.logit(formula=formulaH1_Inter, data = dataW04.rename(columns = {\"generalElectionVoteSuccess\": \"GEVSuccess\", \"generalElectionVoteFailure\": \"GEVFailure\"}, inplace=False)).fit()\n",
    "print(logit2015H1_Inter.summary2())"
   ]
  },
  {
   "cell_type": "markdown",
   "id": "7fd596e4",
   "metadata": {},
   "source": [
    "#### logit marginal effects"
   ]
  },
  {
   "cell_type": "code",
   "execution_count": 31,
   "id": "2822edb5",
   "metadata": {},
   "outputs": [
    {
     "name": "stdout",
     "output_type": "stream",
     "text": [
      "         Logit Marginal Effects        \n",
      "=======================================\n",
      "Dep. Variable:     DV_hasContradictions\n",
      "Method:                            dydx\n",
      "At:                             overall\n",
      "=========================================================================================\n",
      "                           dy/dx    std err          z      P>|z|      [0.025      0.975]\n",
      "-----------------------------------------------------------------------------------------\n",
      "PIdSuccess                0.0074      0.000     33.858      0.000       0.007       0.008\n",
      "GEVSuccess                0.0090      0.000     43.946      0.000       0.009       0.009\n",
      "PIdSuccess:GEVSuccess    -0.0002   3.38e-06    -56.551      0.000      -0.000      -0.000\n",
      "PIdFailure               -0.0481      0.012     -3.868      0.000      -0.073      -0.024\n",
      "GEVFailure                0.1220      0.012     10.221      0.000       0.099       0.145\n",
      "=========================================================================================\n"
     ]
    }
   ],
   "source": [
    "LME2015H1 = logit2015H1_Inter.get_margeff()\n",
    "print(LME2015H1.summary())"
   ]
  },
  {
   "cell_type": "code",
   "execution_count": 32,
   "id": "a90b366e",
   "metadata": {},
   "outputs": [
    {
     "data": {
      "text/plain": [
       "38.60156374400563"
      ]
     },
     "execution_count": 32,
     "metadata": {},
     "output_type": "execute_result"
    }
   ],
   "source": [
    "- LME2015H1.margeff[0]/LME2015H1.margeff[2]"
   ]
  },
  {
   "cell_type": "markdown",
   "id": "dc8833fc",
   "metadata": {},
   "source": [
    "2015 models are worse than 2017 in terms of explanatory capacity"
   ]
  },
  {
   "cell_type": "markdown",
   "id": "c5b6a1ab",
   "metadata": {},
   "source": [
    "### 7.2 Hypothesis 2, Signal voting"
   ]
  },
  {
   "cell_type": "markdown",
   "id": "30fdb8ab",
   "metadata": {},
   "source": [
    "#### Technical calculations for 2017 elections showed that there are people, who vote not for their affiliated party even though they do not believe that it will win the elections (party's chances are lower than ~33%) \n",
    "\n",
    "It could be a bizarre pattern, however, theoretical model has an explanation for this oddity — signal voting. In order to test the hypothesis, I need to filter them out from the sample."
   ]
  },
  {
   "cell_type": "markdown",
   "id": "3eea3122",
   "metadata": {},
   "source": [
    "#### 2017"
   ]
  },
  {
   "cell_type": "code",
   "execution_count": 33,
   "id": "837503fe",
   "metadata": {},
   "outputs": [],
   "source": [
    "signalVotingW12 = dataW12[['partyId', 'GEV','bestOnMII', 'small_mii_cat',\n",
    "                           'PIdSuccess', 'GEVSuccess']]"
   ]
  },
  {
   "cell_type": "markdown",
   "id": "79bb42c1",
   "metadata": {},
   "source": [
    "More filtering, leaving cases aside where voter belives in the victory of the affiliated party but not of the one, for which the vote was casted"
   ]
  },
  {
   "cell_type": "code",
   "execution_count": 34,
   "id": "6f8061ba",
   "metadata": {},
   "outputs": [],
   "source": [
    "signalVotingW12 = signalVotingW12[signalVotingW12['PIdSuccess'] > signalVotingW12['GEVSuccess']]\n",
    "signalVotingW12 = signalVotingW12.reset_index(drop = True)"
   ]
  },
  {
   "cell_type": "markdown",
   "id": "bac289fc",
   "metadata": {},
   "source": [
    "Doing the frequent pattern mining — seeking for different 'affiliated party - party for which the voted was casted' combinations "
   ]
  },
  {
   "cell_type": "code",
   "execution_count": 35,
   "id": "8de7388c",
   "metadata": {},
   "outputs": [
    {
     "data": {
      "application/vnd.jupyter.widget-view+json": {
       "model_id": "4d4a65db7abf48a695367655076f035d",
       "version_major": 2,
       "version_minor": 0
      },
      "text/plain": [
       "  0%|          | 0/1284 [00:00<?, ?it/s]"
      ]
     },
     "metadata": {},
     "output_type": "display_data"
    },
    {
     "data": {
      "text/plain": [
       "1284"
      ]
     },
     "execution_count": 35,
     "metadata": {},
     "output_type": "execute_result"
    }
   ],
   "source": [
    "def create_PIDvsGEV(data, sep='vs', labelBar=''):\n",
    "    data = data.reset_index(drop=True)\n",
    "    for row in tqdm(range(len(data)), desc = labelBar):\n",
    "        data.loc[row, 'PIDvsGEV'] = data.loc[row, 'partyId'] + ' ' + sep + ' ' + data.loc[row, 'GEV']\n",
    "    return data\n",
    "\n",
    "signalVotingW12 = create_PIDvsGEV(signalVotingW12)\n",
    "len(signalVotingW12)"
   ]
  },
  {
   "cell_type": "code",
   "execution_count": 36,
   "id": "bcbdfc72",
   "metadata": {},
   "outputs": [
    {
     "name": "stdout",
     "output_type": "stream",
     "text": [
      "Labour vs Liberal Democrat                                  0.180685\n",
      "Labour vs Conservative                                      0.163551\n",
      "Conservative vs Liberal Democrat                            0.148754\n",
      "Conservative vs Labour                                      0.098131\n",
      "Conservative vs United Kingdom Independence Party (UKIP)    0.086449\n",
      "Labour vs United Kingdom Independence Party (UKIP)          0.062305\n",
      "Labour vs Green Party                                       0.052181\n",
      "Name: PIDvsGEV, dtype: float64\n"
     ]
    }
   ],
   "source": [
    "print(signalVotingW12.PIDvsGEV.value_counts()[:7] / len(signalVotingW12))\n",
    "largestCasesSV12 = list(signalVotingW12.PIDvsGEV.value_counts()[:7].index)\n",
    "largestMMI = ['Health', 'Terrorism', 'Economy', 'Immigration', 'Europe']"
   ]
  },
  {
   "cell_type": "markdown",
   "id": "f50b433c",
   "metadata": {},
   "source": [
    "Moving to the issues and calculating the percentage of categories in the MII variable "
   ]
  },
  {
   "cell_type": "code",
   "execution_count": 37,
   "id": "3ff38f05",
   "metadata": {},
   "outputs": [],
   "source": [
    "def groupbySV_partyMII(data):\n",
    "    data = data[['partyId', 'GEV', 'small_mii_cat']]\n",
    "    aggregation = {\n",
    "        'small_mii_cat': 'count'\n",
    "    }\n",
    "\n",
    "    def percentageCategory(x):\n",
    "        x['miiPercentage'] = x['freq'] / x['freq'].sum()\n",
    "        return x\n",
    "\n",
    "    data = data.groupby(['partyId', 'GEV', 'small_mii_cat']).agg(aggregation).rename(columns = {'small_mii_cat': 'freq'})\n",
    "    return data.groupby(['partyId', 'GEV']).apply(percentageCategory).reset_index()"
   ]
  },
  {
   "cell_type": "code",
   "execution_count": 38,
   "id": "7ab237ad",
   "metadata": {},
   "outputs": [
    {
     "data": {
      "application/vnd.jupyter.widget-view+json": {
       "model_id": "7829a9aa669a47ccabe208dd17bcb855",
       "version_major": 2,
       "version_minor": 0
      },
      "text/plain": [
       "  0%|          | 0/1200 [00:00<?, ?it/s]"
      ]
     },
     "metadata": {},
     "output_type": "display_data"
    }
   ],
   "source": [
    "SV12groupby = groupbySV_partyMII(signalVotingW12)\n",
    "\n",
    "SV12groupby = create_PIDvsGEV(SV12groupby)\n",
    "SV12groupby = SV12groupby[(SV12groupby['PIDvsGEV'].isin(largestCasesSV12)) & (SV12groupby['small_mii_cat'].isin(largestMMI))]"
   ]
  },
  {
   "cell_type": "markdown",
   "id": "bf082541",
   "metadata": {},
   "source": [
    "Since I would like to visualize this one, shortening the names"
   ]
  },
  {
   "cell_type": "code",
   "execution_count": 39,
   "id": "47e14220",
   "metadata": {},
   "outputs": [
    {
     "data": {
      "application/vnd.jupyter.widget-view+json": {
       "model_id": "521f4a3d7f7148ab90a1ed199b052e83",
       "version_major": 2,
       "version_minor": 0
      },
      "text/plain": [
       "  0%|          | 0/35 [00:00<?, ?it/s]"
      ]
     },
     "metadata": {},
     "output_type": "display_data"
    }
   ],
   "source": [
    "party_abbr = {\"Conservative\" : \"Con\", \"Labour\": \"Lab\", \"Liberal Democrat\": \"LD\",\n",
    "                          \"Green Party\": \"Grn\", \"United Kingdom Independence Party (UKIP)\": \"UKIP\",\n",
    "                          \"Scottish National Party (SNP)\": \"SNP\", \"Plaid Cymru\": \"PC\"}\n",
    "SV12groupby = SV12groupby.replace(party_abbr)\n",
    "SV12groupby = create_PIDvsGEV(SV12groupby, sep='>>>')\n",
    "\n",
    "SV12groupby['small_mii_cat'] = SV12groupby['small_mii_cat'].astype('str')"
   ]
  },
  {
   "cell_type": "code",
   "execution_count": 40,
   "id": "c5cc8a13",
   "metadata": {},
   "outputs": [
    {
     "data": {
      "image/png": "[encoded data removed]",
      "text/plain": [
       "<Figure size 1152x576 with 1 Axes>"
      ]
     },
     "metadata": {
      "needs_background": "light"
     },
     "output_type": "display_data"
    }
   ],
   "source": [
    "import seaborn as sns\n",
    "colors = [\"gold\", \"red\", \"royalblue\", \"faded green\", \"dusty purple\"]\n",
    "def SVbarplot(df, listOrder = None):\n",
    "    fig, ax = plt.subplots()\n",
    "    fig.set_size_inches(16,8)\n",
    "    sns.barplot(x = 'PIDvsGEV', y='miiPercentage', data=df, hue='small_mii_cat', ax=ax,\n",
    "                order=listOrder, palette = sns.color_palette(\"Set1\", 5))\n",
    "    ax.legend(fontsize = 'x-large')\n",
    "    ax.set(xlabel='Ideologically affiliated party >>> Party, for which the vote was casted', ylabel='%')\n",
    "\n",
    "SVbarplot(SV12groupby, listOrder = ['Con >>> LD', 'Lab >>> LD', 'Con >>> UKIP', 'Lab >>> UKIP',\n",
    "                       'Lab >>> Grn', 'Lab >>> Con', 'Con >>> Lab'])\n",
    "plt.savefig('sv2017.png', dpi=300, transparent=True, bbox_inches='tight', pad_inches=0.1);"
   ]
  },
  {
   "cell_type": "markdown",
   "id": "de7be26f",
   "metadata": {},
   "source": [
    "#### 2015"
   ]
  },
  {
   "cell_type": "code",
   "execution_count": 41,
   "id": "60edac3f",
   "metadata": {},
   "outputs": [
    {
     "data": {
      "application/vnd.jupyter.widget-view+json": {
       "model_id": "7f9616f4de024c8dbee19e491f8b4d4c",
       "version_major": 2,
       "version_minor": 0
      },
      "text/plain": [
       "  0%|          | 0/1789 [00:00<?, ?it/s]"
      ]
     },
     "metadata": {},
     "output_type": "display_data"
    },
    {
     "data": {
      "text/plain": [
       "1789"
      ]
     },
     "execution_count": 41,
     "metadata": {},
     "output_type": "execute_result"
    }
   ],
   "source": [
    "signalVotingW04 = dataW04[['partyId', 'GEV','bestOnMII', 'small_mii_cat',\n",
    "                           'PIdSuccess', 'GEVSuccess']]\n",
    "\n",
    "signalVotingW04 = signalVotingW04[signalVotingW04['PIdSuccess'] > signalVotingW04['GEVSuccess']]\n",
    "signalVotingW04 = create_PIDvsGEV(signalVotingW04)\n",
    "len(signalVotingW04)"
   ]
  },
  {
   "cell_type": "code",
   "execution_count": 42,
   "id": "dbadd5e9",
   "metadata": {},
   "outputs": [
    {
     "name": "stdout",
     "output_type": "stream",
     "text": [
      "Conservative vs United Kingdom Independence Party (UKIP)    0.341532\n",
      "Labour vs United Kingdom Independence Party (UKIP)          0.173281\n",
      "Labour vs Green Party                                       0.114030\n",
      "Labour vs Conservative                                      0.063723\n",
      "Liberal Democrat vs Green Party                             0.040805\n",
      "Name: PIDvsGEV, dtype: float64\n"
     ]
    }
   ],
   "source": [
    "print((signalVotingW04.PIDvsGEV.value_counts()/ len(signalVotingW04))[0:5])\n",
    "largestCasesSV04 = list(signalVotingW04.PIDvsGEV.value_counts()[:5].index)\n",
    "largestMMI04 = ['Health', 'Terrorism', 'Economy', 'Immigration', 'Inequality']"
   ]
  },
  {
   "cell_type": "code",
   "execution_count": 43,
   "id": "6bde8835",
   "metadata": {},
   "outputs": [
    {
     "data": {
      "application/vnd.jupyter.widget-view+json": {
       "model_id": "7b25b85a85f44c46ba4670318276105c",
       "version_major": 2,
       "version_minor": 0
      },
      "text/plain": [
       "  0%|          | 0/1452 [00:00<?, ?it/s]"
      ]
     },
     "metadata": {},
     "output_type": "display_data"
    },
    {
     "data": {
      "application/vnd.jupyter.widget-view+json": {
       "model_id": "f6a9f688660d490596b3b9554427fc6d",
       "version_major": 2,
       "version_minor": 0
      },
      "text/plain": [
       "  0%|          | 0/25 [00:00<?, ?it/s]"
      ]
     },
     "metadata": {},
     "output_type": "display_data"
    }
   ],
   "source": [
    "SV04groupby = groupbySV_partyMII(signalVotingW04)\n",
    "SV04groupby = create_PIDvsGEV(SV04groupby)\n",
    "SV04groupby = SV04groupby[(SV04groupby['PIDvsGEV'].isin(largestCasesSV04)) & (SV04groupby['small_mii_cat'].isin(largestMMI04))]\n",
    "\n",
    "SV04groupby = SV04groupby.replace(party_abbr)\n",
    "\n",
    "SV04groupby = create_PIDvsGEV(SV04groupby, sep='>>>')\n",
    "\n",
    "SV04groupby['small_mii_cat'] = SV04groupby['small_mii_cat'].astype('str')"
   ]
  },
  {
   "cell_type": "code",
   "execution_count": 44,
   "id": "48814d25",
   "metadata": {},
   "outputs": [
    {
     "data": {
      "image/png": "[encoded data removed]",
      "text/plain": [
       "<Figure size 1152x576 with 1 Axes>"
      ]
     },
     "metadata": {
      "needs_background": "light"
     },
     "output_type": "display_data"
    }
   ],
   "source": [
    "SVbarplot(SV04groupby, listOrder=['Con >>> UKIP','Lab >>> UKIP',\n",
    "                                  'Lab >>> Grn', 'LD >>> Grn', 'Lab >>> Con'])\n",
    "plt.savefig('sv2015.png', dpi=300, transparent=True, bbox_inches='tight', pad_inches=0.1);"
   ]
  },
  {
   "cell_type": "markdown",
   "id": "ffecf5af",
   "metadata": {},
   "source": [
    "### 7.3 Hypothesis 3, Economic voting"
   ]
  },
  {
   "cell_type": "markdown",
   "id": "78ad6fcd",
   "metadata": {},
   "source": [
    "changeEconomy — Do you think that Economy is getting better, getting worse or staying about the same?"
   ]
  },
  {
   "cell_type": "markdown",
   "id": "28759d5f",
   "metadata": {},
   "source": [
    "#### 2017"
   ]
  },
  {
   "cell_type": "markdown",
   "id": "f231943d",
   "metadata": {},
   "source": [
    "isPartyIdCon — is party, which is ideologically close to the voter, a Conservative party?"
   ]
  },
  {
   "cell_type": "code",
   "execution_count": 45,
   "id": "113bcbad",
   "metadata": {},
   "outputs": [],
   "source": [
    "def create_isConservative(data):\n",
    "    for row in tqdm(range(len(data))):\n",
    "        if data.loc[row, \"partyId\"] == 'Conservative':\n",
    "            data.loc[row, 'isPIdCon'] = 1\n",
    "        else:\n",
    "            data.loc[row, 'isPIdCon'] = 0\n",
    "    return data"
   ]
  },
  {
   "cell_type": "code",
   "execution_count": 46,
   "id": "bca2bd15",
   "metadata": {},
   "outputs": [
    {
     "data": {
      "application/vnd.jupyter.widget-view+json": {
       "model_id": "478d1f8c715b45d3a207a81cf3db2959",
       "version_major": 2,
       "version_minor": 0
      },
      "text/plain": [
       "  0%|          | 0/24828 [00:00<?, ?it/s]"
      ]
     },
     "metadata": {},
     "output_type": "display_data"
    }
   ],
   "source": [
    "dataW12 = create_isConservative(dataW12)"
   ]
  },
  {
   "cell_type": "code",
   "execution_count": 47,
   "id": "686348e3",
   "metadata": {},
   "outputs": [],
   "source": [
    "economicVoting12 = dataW12[['partyId', 'GEV', 'DV_hasContradictions',\n",
    "                            'PIdSuccess', 'GEVSuccess',\n",
    "                            'PIdFailure', 'GEVFailure',\n",
    "                            'changeEconomy', 'econPersonal', 'econGen', 'isPIdCon']]"
   ]
  },
  {
   "cell_type": "code",
   "execution_count": 48,
   "id": "534f6960",
   "metadata": {},
   "outputs": [
    {
     "name": "stdout",
     "output_type": "stream",
     "text": [
      "Optimization terminated successfully.\n",
      "         Current function value: 0.483181\n",
      "         Iterations 7\n",
      "                                 Results: Logit\n",
      "=================================================================================\n",
      "Model:                  Logit                    Pseudo R-squared:     0.110     \n",
      "Dependent Variable:     DV_hasContradictions     AIC:                  23439.3919\n",
      "Date:                   2021-12-07 19:56         BIC:                  23471.7760\n",
      "No. Observations:       24247                    Log-Likelihood:       -11716.   \n",
      "Df Model:               3                        LL-Null:              -13156.   \n",
      "Df Residuals:           24243                    LLR p-value:          0.0000    \n",
      "Converged:              1.0000                   Scale:                1.0000    \n",
      "No. Iterations:         7.0000                                                   \n",
      "---------------------------------------------------------------------------------\n",
      "                                  Coef.  Std.Err.    z     P>|z|   [0.025  0.975]\n",
      "---------------------------------------------------------------------------------\n",
      "Intercept                        -0.3784   0.0225 -16.8164 0.0000 -0.4224 -0.3343\n",
      "C(isPIdCon)[T.1.0]               -1.9611   0.0451 -43.4404 0.0000 -2.0496 -1.8726\n",
      "changeEconomy                     0.4907   0.0190  25.8639 0.0000  0.4535  0.5278\n",
      "C(isPIdCon)[T.1.0]:changeEconomy -1.2491   0.0446 -28.0003 0.0000 -1.3365 -1.1617\n",
      "=================================================================================\n",
      "\n"
     ]
    }
   ],
   "source": [
    "logit2017EV = smf.logit(formula='DV_hasContradictions ~ C(isPIdCon)*changeEconomy', data = economicVoting12).fit()\n",
    "print(logit2017EV.summary2())"
   ]
  },
  {
   "cell_type": "markdown",
   "id": "18c306e8",
   "metadata": {},
   "source": [
    "Looking at people who are satisfied with current economic development and voted against their preferences"
   ]
  },
  {
   "cell_type": "code",
   "execution_count": 49,
   "id": "4d37ed8d",
   "metadata": {},
   "outputs": [
    {
     "data": {
      "text/plain": [
       "Conservative                                77.989822\n",
       "Labour                                       6.743003\n",
       "I would/did not vote                         4.834606\n",
       "Liberal Democrat                             4.325700\n",
       "United Kingdom Independence Party (UKIP)     2.798982\n",
       "Other                                        1.145038\n",
       "Scottish National Party (SNP)                1.017812\n",
       "Green Party                                  0.890585\n",
       "Plaid Cymru                                  0.254453\n",
       "Don't know                                   0.000000\n",
       "Name: GEV, dtype: float64"
      ]
     },
     "execution_count": 49,
     "metadata": {},
     "output_type": "execute_result"
    }
   ],
   "source": [
    "evNotConPOS = economicVoting12[(economicVoting12['DV_hasContradictions'] == 1) & (economicVoting12['partyId'] != 'Conservative') & (economicVoting12['changeEconomy'] > 0)]\n",
    "(evNotConPOS['GEV'].value_counts() / len(evNotConPOS)) * 100"
   ]
  },
  {
   "cell_type": "code",
   "execution_count": 50,
   "id": "34c21057",
   "metadata": {},
   "outputs": [
    {
     "data": {
      "text/plain": [
       "Conservative                                91.176471\n",
       "I would/did not vote                         5.882353\n",
       "Labour                                       1.470588\n",
       "United Kingdom Independence Party (UKIP)     1.470588\n",
       "Liberal Democrat                             0.000000\n",
       "Scottish National Party (SNP)                0.000000\n",
       "Plaid Cymru                                  0.000000\n",
       "Green Party                                  0.000000\n",
       "Other                                        0.000000\n",
       "Don't know                                   0.000000\n",
       "Name: GEV, dtype: float64"
      ]
     },
     "execution_count": 50,
     "metadata": {},
     "output_type": "execute_result"
    }
   ],
   "source": [
    "evNotConOnly2 = economicVoting12[(economicVoting12['DV_hasContradictions'] == 1) & (economicVoting12['partyId'] != 'Conservative') & (economicVoting12['changeEconomy'] > 1)]\n",
    "(evNotConOnly2['GEV'].value_counts() / len(evNotConOnly2)) * 100"
   ]
  },
  {
   "cell_type": "markdown",
   "id": "175ed9e2",
   "metadata": {},
   "source": [
    "#### 2015"
   ]
  },
  {
   "cell_type": "code",
   "execution_count": 51,
   "id": "b2c47b26",
   "metadata": {},
   "outputs": [
    {
     "data": {
      "application/vnd.jupyter.widget-view+json": {
       "model_id": "12aff0365af444ebaca0f76351935e21",
       "version_major": 2,
       "version_minor": 0
      },
      "text/plain": [
       "  0%|          | 0/23303 [00:00<?, ?it/s]"
      ]
     },
     "metadata": {},
     "output_type": "display_data"
    }
   ],
   "source": [
    "dataW04 = create_isConservative(dataW04)"
   ]
  },
  {
   "cell_type": "code",
   "execution_count": 52,
   "id": "70fbe006",
   "metadata": {},
   "outputs": [],
   "source": [
    "economicVoting04 = dataW04[['partyId', 'GEV', 'DV_hasContradictions',\n",
    "                            'PIdSuccess', 'GEVSuccess', 'PIdFailure', 'GEVFailure',\n",
    "                            'changeEconomy', 'econPersonal', 'econGen', 'isPIdCon',\n",
    "                            'gender', 'country', 'age']]"
   ]
  },
  {
   "cell_type": "code",
   "execution_count": 53,
   "id": "5409115c",
   "metadata": {},
   "outputs": [
    {
     "name": "stdout",
     "output_type": "stream",
     "text": [
      "Optimization terminated successfully.\n",
      "         Current function value: 0.508698\n",
      "         Iterations 6\n",
      "                                 Results: Logit\n",
      "=================================================================================\n",
      "Model:                   Logit                   Pseudo R-squared:    0.022      \n",
      "Dependent Variable:      DV_hasContradictions    AIC:                 23271.7820 \n",
      "Date:                    2021-12-07 19:56        BIC:                 23303.9316 \n",
      "No. Observations:        22866                   Log-Likelihood:      -11632.    \n",
      "Df Model:                3                       LL-Null:             -11895.    \n",
      "Df Residuals:            22862                   LLR p-value:         8.3375e-114\n",
      "Converged:               1.0000                  Scale:               1.0000     \n",
      "No. Iterations:          6.0000                                                  \n",
      "---------------------------------------------------------------------------------\n",
      "                                  Coef.  Std.Err.    z     P>|z|   [0.025  0.975]\n",
      "---------------------------------------------------------------------------------\n",
      "Intercept                        -1.1848   0.0196 -60.4233 0.0000 -1.2232 -1.1464\n",
      "C(isPIdCon)[T.1.0]                0.2328   0.0428   5.4443 0.0000  0.1490  0.3166\n",
      "changeEconomy                     0.2276   0.0191  11.9355 0.0000  0.1902  0.2650\n",
      "C(isPIdCon)[T.1.0]:changeEconomy -0.8594   0.0395 -21.7713 0.0000 -0.9367 -0.7820\n",
      "=================================================================================\n",
      "\n"
     ]
    }
   ],
   "source": [
    "logit2015EV = smf.logit(formula='DV_hasContradictions ~ C(isPIdCon)*changeEconomy', data = economicVoting04).fit()\n",
    "print(logit2015EV.summary2())"
   ]
  },
  {
   "cell_type": "markdown",
   "id": "d362b04b",
   "metadata": {},
   "source": [
    "Looking at people who are satisfied with current economic development and voted against their preferences"
   ]
  },
  {
   "cell_type": "code",
   "execution_count": 54,
   "id": "aef7b9cf",
   "metadata": {},
   "outputs": [
    {
     "data": {
      "text/plain": [
       "Conservative                                40.331492\n",
       "United Kingdom Independence Party (UKIP)    16.969219\n",
       "Labour                                      12.549329\n",
       "Green Party                                  8.681926\n",
       "Liberal Democrat                             7.576953\n",
       "I would/did not vote                         5.998421\n",
       "Scottish National Party (SNP)                5.682715\n",
       "Plaid Cymru                                  1.104972\n",
       "Other                                        0.947119\n",
       "British National Party (BNP)                 0.157853\n",
       "Don't know                                   0.000000\n",
       "Name: GEV, dtype: float64"
      ]
     },
     "execution_count": 54,
     "metadata": {},
     "output_type": "execute_result"
    }
   ],
   "source": [
    "evNotConPOS04 = economicVoting04[(economicVoting04['DV_hasContradictions'] == 1) & (economicVoting04['partyId'] != 'Conservative') & (economicVoting04['changeEconomy'] > 0)]\n",
    "(evNotConPOS04['GEV'].value_counts() / len(evNotConPOS04)) * 100"
   ]
  },
  {
   "cell_type": "code",
   "execution_count": 55,
   "id": "32b7da4b",
   "metadata": {},
   "outputs": [
    {
     "data": {
      "text/plain": [
       "Conservative                                75.728155\n",
       "United Kingdom Independence Party (UKIP)     8.737864\n",
       "I would/did not vote                         4.854369\n",
       "Labour                                       4.854369\n",
       "Liberal Democrat                             2.912621\n",
       "Scottish National Party (SNP)                1.941748\n",
       "Plaid Cymru                                  0.970874\n",
       "Green Party                                  0.000000\n",
       "British National Party (BNP)                 0.000000\n",
       "Other                                        0.000000\n",
       "Don't know                                   0.000000\n",
       "Name: GEV, dtype: float64"
      ]
     },
     "execution_count": 55,
     "metadata": {},
     "output_type": "execute_result"
    }
   ],
   "source": [
    "evNotConOnlyTwo04 = economicVoting04[(economicVoting04['DV_hasContradictions'] == 1) & (economicVoting04['partyId'] != 'Conservative') & (economicVoting04['changeEconomy'] > 1)]\n",
    "(evNotConOnlyTwo04['GEV'].value_counts() / len(evNotConOnlyTwo04)) * 100"
   ]
  },
  {
   "cell_type": "markdown",
   "id": "f2934fa5",
   "metadata": {},
   "source": [
    "### 7.4 Logistic regression model for hypotheses 1 and 3"
   ]
  },
  {
   "cell_type": "markdown",
   "id": "921e74fb",
   "metadata": {},
   "source": [
    "#### This combination of two assumptions into one is made for the sake of additional explanation"
   ]
  },
  {
   "cell_type": "code",
   "execution_count": 56,
   "id": "1f34927c",
   "metadata": {},
   "outputs": [
    {
     "name": "stdout",
     "output_type": "stream",
     "text": [
      "Optimization terminated successfully.\n",
      "         Current function value: 0.288827\n",
      "         Iterations 8\n",
      "                                 Results: Logit\n",
      "=================================================================================\n",
      "Model:                  Logit                    Pseudo R-squared:     0.436     \n",
      "Dependent Variable:     DV_hasContradictions     AIC:                  12695.4261\n",
      "Date:                   2021-12-07 19:56         BIC:                  12791.3767\n",
      "No. Observations:       21936                    Log-Likelihood:       -6335.7   \n",
      "Df Model:               11                       LL-Null:              -11227.   \n",
      "Df Residuals:           21924                    LLR p-value:          0.0000    \n",
      "Converged:              1.0000                   Scale:                1.0000    \n",
      "No. Iterations:         8.0000                                                   \n",
      "---------------------------------------------------------------------------------\n",
      "                                  Coef.  Std.Err.    z     P>|z|   [0.025  0.975]\n",
      "---------------------------------------------------------------------------------\n",
      "Intercept                        -3.7302   0.1354 -27.5407 0.0000 -3.9956 -3.4647\n",
      "C(isPIdCon)[T.1.0]               -0.8974   0.0624 -14.3795 0.0000 -1.0197 -0.7751\n",
      "gender[T.Female]                 -0.1400   0.0457  -3.0628 0.0022 -0.2295 -0.0504\n",
      "PIdSuccess                        0.0588   0.0021  28.6921 0.0000  0.0548  0.0629\n",
      "GEVSuccess                        0.0935   0.0021  43.6319 0.0000  0.0893  0.0977\n",
      "PIdSuccess:GEVSuccess            -0.0018   0.0000 -48.6377 0.0000 -0.0018 -0.0017\n",
      "PIdFailure                        1.2576   0.0809  15.5524 0.0000  1.0991  1.4161\n",
      "GEVFailure                       -0.4300   0.0849  -5.0633 0.0000 -0.5965 -0.2636\n",
      "changeEconomy                     0.3876   0.0279  13.8998 0.0000  0.3330  0.4423\n",
      "C(isPIdCon)[T.1.0]:changeEconomy -1.1693   0.0595 -19.6555 0.0000 -1.2859 -1.0527\n",
      "country                           0.0073   0.0368   0.1971 0.8437 -0.0649  0.0795\n",
      "age                               0.0043   0.0014   2.9615 0.0031  0.0014  0.0071\n",
      "=================================================================================\n",
      "\n"
     ]
    }
   ],
   "source": [
    "logit2017H_1_3 = smf.logit(formula='DV_hasContradictions ~ PIdSuccess * GEVSuccess + PIdFailure + GEVFailure + C(isPIdCon)*changeEconomy + gender + country + age', data = dataW12).fit()\n",
    "print(logit2017H_1_3.summary2())"
   ]
  },
  {
   "cell_type": "markdown",
   "id": "7f796b8d",
   "metadata": {},
   "source": [
    "#### Moving to predictions"
   ]
  },
  {
   "cell_type": "code",
   "execution_count": 57,
   "id": "dd22735f",
   "metadata": {},
   "outputs": [],
   "source": [
    "dataW12_4predict = dataW12[['DV_hasContradictions', 'PIdSuccess', 'GEVSuccess',\n",
    "                            'PIdFailure', 'GEVFailure',\n",
    "                            'isPIdCon', 'changeEconomy', 'gender', 'country', 'age']]\n",
    "dataW12_4predict = dataW12_4predict.dropna()\n",
    "predictedProb = logit2017H_1_3.predict(dataW12_4predict)"
   ]
  },
  {
   "cell_type": "code",
   "execution_count": 58,
   "id": "83fcbadc",
   "metadata": {},
   "outputs": [],
   "source": [
    "from sklearn.metrics import precision_recall_curve\n",
    "def Find_Optimal_Cutoff(target, predicted):\n",
    "    precisions, recalls, thresholds = precision_recall_curve(target, predicted)\n",
    "#     optimalIndex = np.argmax(2 * (precisions * recalls) / (precisions + recalls)) #f1-score\n",
    "    optimalIndex = np.argmin(np.abs(precisions - recalls))\n",
    "    return thresholds[optimalIndex]"
   ]
  },
  {
   "cell_type": "markdown",
   "id": "8a61f78a",
   "metadata": {},
   "source": [
    "In order to calculate optimal threshold I use precision-recall curve"
   ]
  },
  {
   "cell_type": "code",
   "execution_count": 59,
   "id": "a9b85823",
   "metadata": {},
   "outputs": [
    {
     "name": "stdout",
     "output_type": "stream",
     "text": [
      "Optimal threshold is 0.341\n"
     ]
    }
   ],
   "source": [
    "optimal_threshold = Find_Optimal_Cutoff(dataW12_4predict['DV_hasContradictions'], predictedProb)\n",
    "print('Optimal threshold is', round(optimal_threshold, 3))"
   ]
  },
  {
   "cell_type": "code",
   "execution_count": 60,
   "id": "46540e21",
   "metadata": {},
   "outputs": [
    {
     "data": {
      "image/png": "[encoded data removed]",
      "text/plain": [
       "<Figure size 864x360 with 1 Axes>"
      ]
     },
     "metadata": {
      "needs_background": "light"
     },
     "output_type": "display_data"
    }
   ],
   "source": [
    "def plot_prec_recall_vs_tresh(y_true, y_predProb):\n",
    "    precisions, recalls, thresholds = precision_recall_curve(y_true, y_predProb)\n",
    "    \n",
    "    OT_ind = np.argmin(np.abs(precisions - recalls))\n",
    "    optimal_threshold = thresholds[OT_ind]\n",
    "    precOT = precisions[OT_ind]\n",
    "#     recOT = recalls[OT_ind]\n",
    "    \n",
    "    plt.figure(figsize=(12,5))\n",
    "    plt.plot(thresholds, precisions[:-1], 'b-', linewidth = 2, label='precision')\n",
    "    plt.plot(thresholds, recalls[:-1], 'r-', linewidth = 2, label = 'recall')\n",
    "    plt.axvline(x=optimal_threshold, label = 'Optimal threshold', color='orange', linewidth=1, linestyle='--')\n",
    "    plt.axhline(y=precOT, color='grey', linewidth=0.5, linestyle='--')\n",
    "    \n",
    "    plt.xlabel('Threshold')\n",
    "    plt.xticks(np.append(np.arange(0,1,0.2), round(optimal_threshold, 2)))\n",
    "    plt.yticks(np.append(np.arange(0,1,0.2), round(precOT, 2)))\n",
    "    \n",
    "    plt.legend(loc='upper right', fontsize = 'x-large')\n",
    "    plt.ylim([0,1])\n",
    "\n",
    "plot_prec_recall_vs_tresh(dataW12_4predict['DV_hasContradictions'], predictedProb)\n",
    "\n",
    "plt.savefig('sensRecall2017.png', dpi=300, transparent=True, bbox_inches='tight', pad_inches=0.1)\n",
    "plt.show()"
   ]
  },
  {
   "cell_type": "code",
   "execution_count": 61,
   "id": "b6d16ce3",
   "metadata": {},
   "outputs": [],
   "source": [
    "predictedBinary = (predictedProb > optimal_threshold) * 1"
   ]
  },
  {
   "cell_type": "code",
   "execution_count": 62,
   "id": "993bd3b5",
   "metadata": {},
   "outputs": [
    {
     "name": "stdout",
     "output_type": "stream",
     "text": [
      "[[15931  1434]\n",
      " [ 1435  3136]]\n",
      "Accuracy:  0.8692104303428154\n",
      "Recall:  0.6860643185298622\n",
      "Precision:  0.6862144420131291\n"
     ]
    }
   ],
   "source": [
    "from sklearn.metrics import confusion_matrix, accuracy_score, recall_score, precision_score\n",
    "print(confusion_matrix(y_true=dataW12_4predict['DV_hasContradictions'], y_pred=predictedBinary))\n",
    "\n",
    "print('Accuracy: ', accuracy_score(y_true=dataW12_4predict['DV_hasContradictions'], y_pred=predictedBinary))\n",
    "print('Recall: ', recall_score(y_true=dataW12_4predict['DV_hasContradictions'], y_pred=predictedBinary))\n",
    "print('Precision: ', precision_score(y_true=dataW12_4predict['DV_hasContradictions'], y_pred=predictedBinary))"
   ]
  },
  {
   "cell_type": "markdown",
   "id": "aa391ab6",
   "metadata": {},
   "source": [
    "#### Accuracy metrics. Predictions. 2015"
   ]
  },
  {
   "cell_type": "code",
   "execution_count": 63,
   "id": "e86485b8",
   "metadata": {},
   "outputs": [
    {
     "name": "stdout",
     "output_type": "stream",
     "text": [
      "Optimization terminated successfully.\n",
      "         Current function value: 0.368830\n",
      "         Iterations 7\n",
      "                                 Results: Logit\n",
      "=================================================================================\n",
      "Model:                  Logit                    Pseudo R-squared:     0.254     \n",
      "Dependent Variable:     DV_hasContradictions     AIC:                  13313.6765\n",
      "Date:                   2021-12-07 19:56         BIC:                  13407.2647\n",
      "No. Observations:       18016                    Log-Likelihood:       -6644.8   \n",
      "Df Model:               11                       LL-Null:              -8907.2   \n",
      "Df Residuals:           18004                    LLR p-value:          0.0000    \n",
      "Converged:              1.0000                   Scale:                1.0000    \n",
      "No. Iterations:         7.0000                                                   \n",
      "---------------------------------------------------------------------------------\n",
      "                                  Coef.  Std.Err.    z     P>|z|   [0.025  0.975]\n",
      "---------------------------------------------------------------------------------\n",
      "Intercept                        -3.8191   0.1351 -28.2588 0.0000 -4.0840 -3.5542\n",
      "C(isPIdCon)[T.1.0]                0.4710   0.0582   8.0957 0.0000  0.3570  0.5851\n",
      "gender[T.Female]                 -0.2814   0.0444  -6.3359 0.0000 -0.3685 -0.1944\n",
      "PIdSuccess                        0.0604   0.0021  28.6323 0.0000  0.0563  0.0646\n",
      "GEVSuccess                        0.0742   0.0021  35.4951 0.0000  0.0701  0.0783\n",
      "PIdSuccess:GEVSuccess            -0.0016   0.0000 -43.3378 0.0000 -0.0017 -0.0015\n",
      "PIdFailure                       -0.3302   0.1152  -2.8669 0.0041 -0.5559 -0.1045\n",
      "GEVFailure                        0.9443   0.1113   8.4859 0.0000  0.7262  1.1624\n",
      "changeEconomy                     0.2064   0.0267   7.7167 0.0000  0.1540  0.2588\n",
      "C(isPIdCon)[T.1.0]:changeEconomy -0.8659   0.0536 -16.1631 0.0000 -0.9709 -0.7609\n",
      "country                          -0.0033   0.0326  -0.1024 0.9184 -0.0673  0.0606\n",
      "age                               0.0089   0.0015   5.9696 0.0000  0.0060  0.0119\n",
      "=================================================================================\n",
      "\n"
     ]
    }
   ],
   "source": [
    "logit2015H_1_3 = smf.logit(formula='DV_hasContradictions ~ PIdSuccess * GEVSuccess + PIdFailure + GEVFailure + C(isPIdCon)*changeEconomy + gender + country + age', data = economicVoting04).fit()\n",
    "print(logit2015H_1_3.summary2())"
   ]
  },
  {
   "cell_type": "code",
   "execution_count": 64,
   "id": "9e854b07",
   "metadata": {},
   "outputs": [],
   "source": [
    "dataW04_4predict = dataW04[['DV_hasContradictions', 'PIdSuccess', 'GEVSuccess',\n",
    "                            'PIdFailure', 'GEVFailure',\n",
    "                            'isPIdCon', 'changeEconomy',\n",
    "                            'gender', 'country', 'age']]\n",
    "dataW04_4predict = dataW04_4predict.dropna()\n",
    "predicted2015Prob = logit2015H_1_3.predict(dataW04_4predict)"
   ]
  },
  {
   "cell_type": "code",
   "execution_count": 65,
   "id": "c999d64a",
   "metadata": {},
   "outputs": [
    {
     "name": "stdout",
     "output_type": "stream",
     "text": [
      "Optimal threshold is 0.327\n"
     ]
    }
   ],
   "source": [
    "optimal_threshold2015 = Find_Optimal_Cutoff(dataW04_4predict['DV_hasContradictions'], predicted2015Prob)\n",
    "print('Optimal threshold is', round(optimal_threshold2015, 3))"
   ]
  },
  {
   "cell_type": "code",
   "execution_count": 66,
   "id": "1bb310ae",
   "metadata": {},
   "outputs": [
    {
     "data": {
      "image/png": "[encoded data removed]",
      "text/plain": [
       "<Figure size 864x360 with 1 Axes>"
      ]
     },
     "metadata": {
      "needs_background": "light"
     },
     "output_type": "display_data"
    }
   ],
   "source": [
    "plot_prec_recall_vs_tresh(dataW04_4predict['DV_hasContradictions'], predicted2015Prob)\n",
    "\n",
    "plt.savefig('sensRecall2015.png', dpi=300, transparent=True, bbox_inches='tight', pad_inches=0.1)\n",
    "plt.show()"
   ]
  },
  {
   "cell_type": "code",
   "execution_count": 67,
   "id": "f6862f28",
   "metadata": {},
   "outputs": [],
   "source": [
    "predictedBinary2015 = (predicted2015Prob > optimal_threshold2015) * 1"
   ]
  },
  {
   "cell_type": "code",
   "execution_count": 68,
   "id": "7668af6e",
   "metadata": {},
   "outputs": [
    {
     "name": "stdout",
     "output_type": "stream",
     "text": [
      "[[12931  1559]\n",
      " [ 1560  1966]]\n",
      "Accuracy:  0.8268761101243339\n",
      "Recall:  0.5575723199092456\n",
      "Precision:  0.5577304964539007\n"
     ]
    }
   ],
   "source": [
    "print(confusion_matrix(y_true=dataW04_4predict['DV_hasContradictions'], y_pred=predictedBinary2015))\n",
    "\n",
    "print('Accuracy: ', accuracy_score(y_true=dataW04_4predict['DV_hasContradictions'], y_pred=predictedBinary2015))\n",
    "print('Recall: ', recall_score(y_true=dataW04_4predict['DV_hasContradictions'], y_pred=predictedBinary2015))\n",
    "print('Precision: ', precision_score(y_true=dataW04_4predict['DV_hasContradictions'], y_pred=predictedBinary2015))"
   ]
  },
  {
   "cell_type": "markdown",
   "id": "51ac4458",
   "metadata": {},
   "source": [
    "### 7.5 Hypothesis 4, Hierarchy of beliefs"
   ]
  },
  {
   "cell_type": "code",
   "execution_count": 69,
   "id": "f6f7152d",
   "metadata": {},
   "outputs": [],
   "source": [
    "selectedVar = ['partyId', 'GEV', 'mii', 'bestOnMII', 'mii_cat', 'small_mii_cat',\n",
    "               'handleMIICon', 'handleMIILab', 'handleMIILD', 'handleMIIUKIP', 'handleMIIGrn',\n",
    "               'DV_hasContradictions']\n",
    "MIIdataW12 = dataW12[selectedVar]\n",
    "MIIdataW04 = dataW04[selectedVar] "
   ]
  },
  {
   "cell_type": "code",
   "execution_count": 70,
   "id": "6a3df824",
   "metadata": {},
   "outputs": [],
   "source": [
    "party_abbr_handle = {\"Conservative\" : \"Con\", \"Labour\": \"Lab\", \"Liberal Democrat\": \"LD\",\n",
    "                     \"Green Party\": \"Grn\", \"United Kingdom Independence Party (UKIP)\": \"UKIP\"}\n",
    "\n",
    "def makeHandleVars(data, labelBar=''):\n",
    "    for row in tqdm(range(len(data)), desc = labelBar):\n",
    "        try:\n",
    "            if data.loc[row, \"partyId\"] in party_abbr_handle:\n",
    "                data.loc[row, \"PIdHandleMII\"] = data.loc[row,\"handleMII\" + party_abbr_handle[data.loc[row, \"partyId\"]]]\n",
    "\n",
    "            if data.loc[row, \"GEV\"] in party_abbr_handle:\n",
    "                data.loc[row, \"GEVHandleMII\"] = data.loc[row,\"handleMII\" + party_abbr_handle[data.loc[row, \"GEV\"]]]\n",
    "        except BaseException as error:\n",
    "            print(error)\n",
    "            print(\" \", row)\n",
    "    return data"
   ]
  },
  {
   "cell_type": "code",
   "execution_count": 71,
   "id": "fe802bd1",
   "metadata": {},
   "outputs": [
    {
     "data": {
      "application/vnd.jupyter.widget-view+json": {
       "model_id": "d514de16ca354028b11513fa1f61b7f3",
       "version_major": 2,
       "version_minor": 0
      },
      "text/plain": [
       "2017:   0%|          | 0/24828 [00:00<?, ?it/s]"
      ]
     },
     "metadata": {},
     "output_type": "display_data"
    },
    {
     "data": {
      "application/vnd.jupyter.widget-view+json": {
       "model_id": "3e637645c64741d4abff9dedf52e7d9b",
       "version_major": 2,
       "version_minor": 0
      },
      "text/plain": [
       "2015:   0%|          | 0/23303 [00:00<?, ?it/s]"
      ]
     },
     "metadata": {},
     "output_type": "display_data"
    }
   ],
   "source": [
    "MIIdataW12 = makeHandleVars(MIIdataW12, labelBar='2017')\n",
    "MIIdataW04 = makeHandleVars(MIIdataW04, labelBar='2015')"
   ]
  },
  {
   "cell_type": "code",
   "execution_count": 72,
   "id": "a399b16a",
   "metadata": {},
   "outputs": [],
   "source": [
    "MIIdataW12 = MIIdataW12.dropna(subset=[\"PIdHandleMII\", \"GEVHandleMII\"]).reset_index(drop = True)\n",
    "MIIdataW04 = MIIdataW04.dropna(subset=[\"PIdHandleMII\", \"GEVHandleMII\"]).reset_index(drop = True)"
   ]
  },
  {
   "cell_type": "code",
   "execution_count": 73,
   "id": "3d0ba868",
   "metadata": {},
   "outputs": [
    {
     "name": "stdout",
     "output_type": "stream",
     "text": [
      "0    3824\n",
      "1     993\n",
      "Name: DV_hasContradictions, dtype: int64\n",
      "0    3604\n",
      "1     823\n",
      "Name: DV_hasContradictions, dtype: int64\n"
     ]
    }
   ],
   "source": [
    "print(MIIdataW12['DV_hasContradictions'].value_counts())\n",
    "print(MIIdataW04['DV_hasContradictions'].value_counts())"
   ]
  },
  {
   "cell_type": "code",
   "execution_count": 74,
   "id": "c5115623",
   "metadata": {},
   "outputs": [
    {
     "name": "stdout",
     "output_type": "stream",
     "text": [
      "Optimization terminated successfully.\n",
      "         Current function value: 0.444537\n",
      "         Iterations 6\n",
      "                            Results: Logit\n",
      "======================================================================\n",
      "Model:              Logit                Pseudo R-squared: 0.126      \n",
      "Dependent Variable: DV_hasContradictions AIC:              4288.6701  \n",
      "Date:               2021-12-07 19:56     BIC:              4308.1098  \n",
      "No. Observations:   4817                 Log-Likelihood:   -2141.3    \n",
      "Df Model:           2                    LL-Null:          -2450.9    \n",
      "Df Residuals:       4814                 LLR p-value:      3.5800e-135\n",
      "Converged:          1.0000               Scale:            1.0000     \n",
      "No. Iterations:     6.0000                                            \n",
      "-----------------------------------------------------------------------\n",
      "                   Coef.   Std.Err.     z      P>|z|    [0.025   0.975]\n",
      "-----------------------------------------------------------------------\n",
      "Intercept          0.3479    0.1182    2.9426  0.0033   0.1162   0.5797\n",
      "PIdHandleMII      -0.4292    0.0222  -19.3665  0.0000  -0.4726  -0.3857\n",
      "GEVHandleMII       0.1593    0.0247    6.4509  0.0000   0.1109   0.2077\n",
      "======================================================================\n",
      "\n"
     ]
    }
   ],
   "source": [
    "MIIdataW12['partyId'] = MIIdataW12['partyId'].astype('str')\n",
    "\n",
    "miiLogitW12 = smf.logit(formula='DV_hasContradictions~PIdHandleMII+GEVHandleMII', data=MIIdataW12).fit()\n",
    "print(miiLogitW12.summary2())"
   ]
  },
  {
   "cell_type": "code",
   "execution_count": 75,
   "id": "010d9f91",
   "metadata": {},
   "outputs": [
    {
     "name": "stdout",
     "output_type": "stream",
     "text": [
      "Optimization terminated successfully.\n",
      "         Current function value: 0.385894\n",
      "         Iterations 7\n",
      "                            Results: Logit\n",
      "======================================================================\n",
      "Model:              Logit                Pseudo R-squared: 0.196      \n",
      "Dependent Variable: DV_hasContradictions AIC:              3422.7042  \n",
      "Date:               2021-12-07 19:56     BIC:              3441.8906  \n",
      "No. Observations:   4427                 Log-Likelihood:   -1708.4    \n",
      "Df Model:           2                    LL-Null:          -2126.0    \n",
      "Df Residuals:       4424                 LLR p-value:      4.2408e-182\n",
      "Converged:          1.0000               Scale:            1.0000     \n",
      "No. Iterations:     7.0000                                            \n",
      "-----------------------------------------------------------------------\n",
      "                   Coef.   Std.Err.     z      P>|z|    [0.025   0.975]\n",
      "-----------------------------------------------------------------------\n",
      "Intercept         -0.5718    0.1178   -4.8529  0.0000  -0.8027  -0.3409\n",
      "PIdHandleMII      -0.7433    0.0365  -20.3765  0.0000  -0.8148  -0.6718\n",
      "GEVHandleMII       0.5433    0.0368   14.7537  0.0000   0.4711   0.6155\n",
      "======================================================================\n",
      "\n"
     ]
    }
   ],
   "source": [
    "MIIdataW04['partyId'] = MIIdataW04['partyId'].astype('str')\n",
    "\n",
    "miiLogitW04 = smf.logit(formula='DV_hasContradictions~PIdHandleMII+GEVHandleMII', data=MIIdataW04).fit()\n",
    "print(miiLogitW04.summary2())"
   ]
  }
 ],
 "metadata": {
  "kernelspec": {
   "display_name": "Python 3",
   "language": "python",
   "name": "python3"
  },
  "language_info": {
   "codemirror_mode": {
    "name": "ipython",
    "version": 3
   },
   "file_extension": ".py",
   "mimetype": "text/x-python",
   "name": "python",
   "nbconvert_exporter": "python",
   "pygments_lexer": "ipython3",
   "version": "3.8.8"
  }
 },
 "nbformat": 4,
 "nbformat_minor": 5
}
